{
  "nbformat": 4,
  "nbformat_minor": 0,
  "metadata": {
    "colab": {
      "provenance": []
    },
    "kernelspec": {
      "name": "python3",
      "display_name": "Python 3"
    },
    "language_info": {
      "name": "python"
    }
  },
  "cells": [
    {
      "cell_type": "code",
      "execution_count": null,
      "metadata": {
        "id": "AiM3ZWMrIM1d"
      },
      "outputs": [],
      "source": [
        "import pandas as pd\n",
        "from sklearn.model_selection import train_test_split\n",
        "from sklearn.preprocessing import StandardScaler\n",
        "from sklearn.linear_model import LogisticRegression\n",
        "from sklearn.metrics import confusion_matrix, accuracy_score, precision_score, recall_score, f1_score"
      ]
    },
    {
      "cell_type": "code",
      "source": [
        "df = pd.read_csv('data3.csv')"
      ],
      "metadata": {
        "id": "2uNqpQg0IQZs"
      },
      "execution_count": null,
      "outputs": []
    },
    {
      "cell_type": "code",
      "source": [
        "X = df[['discount', 'overall rating', 'total rating', '5star', '4star', '3star', '2star', '1star', 'reviews', 'review link', 'manufacturer info', 'importer info', 'packer info', 'text verified']]\n",
        "y = df['target']\n"
      ],
      "metadata": {
        "id": "n6diVB3gIWq8"
      },
      "execution_count": null,
      "outputs": []
    },
    {
      "cell_type": "code",
      "source": [
        "X_train, X_test, y_train, y_test = train_test_split(X, y, test_size=1, random_state=197)"
      ],
      "metadata": {
        "id": "PdzXw6kLIbOX"
      },
      "execution_count": null,
      "outputs": []
    },
    {
      "cell_type": "code",
      "source": [
        "scaler = StandardScaler()\n",
        "X_train = scaler.fit_transform(X_train)\n",
        "X_test = scaler.transform(X_test)"
      ],
      "metadata": {
        "id": "f85_xwfXIeTu"
      },
      "execution_count": null,
      "outputs": []
    },
    {
      "cell_type": "code",
      "source": [
        "model = LogisticRegression()\n",
        "model.fit(X_train, y_train)\n"
      ],
      "metadata": {
        "colab": {
          "base_uri": "https://localhost:8080/"
        },
        "id": "uO197nDbIis1",
        "outputId": "878f56b7-e1a2-43bc-f6c7-56887d138b2e"
      },
      "execution_count": null,
      "outputs": [
        {
          "output_type": "execute_result",
          "data": {
            "text/plain": [
              "LogisticRegression()"
            ]
          },
          "metadata": {},
          "execution_count": 121
        }
      ]
    },
    {
      "cell_type": "code",
      "source": [
        "y_pred = model.predict(X_test)"
      ],
      "metadata": {
        "id": "JjqPV2JeIlPD"
      },
      "execution_count": null,
      "outputs": []
    },
    {
      "cell_type": "code",
      "source": [
        "accuracy = accuracy_score(y_test, y_pred)\n",
        "precision = precision_score(y_test, y_pred)\n",
        "recall = recall_score(y_test, y_pred)\n",
        "f1 = f1_score(y_test, y_pred)\n"
      ],
      "metadata": {
        "colab": {
          "base_uri": "https://localhost:8080/"
        },
        "id": "nmeT1kCQIw68",
        "outputId": "c224b494-636f-43cd-9dc6-f57d09181407"
      },
      "execution_count": null,
      "outputs": [
        {
          "output_type": "stream",
          "name": "stderr",
          "text": [
            "/usr/local/lib/python3.8/dist-packages/sklearn/metrics/_classification.py:1318: UndefinedMetricWarning: Precision is ill-defined and being set to 0.0 due to no predicted samples. Use `zero_division` parameter to control this behavior.\n",
            "  _warn_prf(average, modifier, msg_start, len(result))\n",
            "/usr/local/lib/python3.8/dist-packages/sklearn/metrics/_classification.py:1318: UndefinedMetricWarning: Recall is ill-defined and being set to 0.0 due to no true samples. Use `zero_division` parameter to control this behavior.\n",
            "  _warn_prf(average, modifier, msg_start, len(result))\n",
            "/usr/local/lib/python3.8/dist-packages/sklearn/metrics/_classification.py:1580: UndefinedMetricWarning: F-score is ill-defined and being set to 0.0 due to no true nor predicted samples. Use `zero_division` parameter to control this behavior.\n",
            "  _warn_prf(average, \"true nor predicted\", \"F-score is\", len(true_sum))\n"
          ]
        }
      ]
    },
    {
      "cell_type": "code",
      "source": [
        "print(f'Accuracy: {accuracy:.2f}')\n",
        "print(f'Precision: {precision:.2f}')\n",
        "print(f'Recall: {recall:.2f}')\n",
        "print(f'F1 score: {f1:.2f}')\n"
      ],
      "metadata": {
        "colab": {
          "base_uri": "https://localhost:8080/"
        },
        "id": "j2lXCoF8JBXU",
        "outputId": "3526809d-e683-4298-f771-d9cf2064f9b0"
      },
      "execution_count": null,
      "outputs": [
        {
          "output_type": "stream",
          "name": "stdout",
          "text": [
            "Accuracy: 1.00\n",
            "Precision: 0.00\n",
            "Recall: 0.00\n",
            "F1 score: 0.00\n"
          ]
        }
      ]
    },
    {
      "cell_type": "code",
      "source": [
        "print(confusion_matrix(y_test, y_pred))\n"
      ],
      "metadata": {
        "colab": {
          "base_uri": "https://localhost:8080/"
        },
        "id": "evaxUo7MJDoQ",
        "outputId": "c7af2dbc-7e49-4189-b93e-e60c70417581"
      },
      "execution_count": null,
      "outputs": [
        {
          "output_type": "stream",
          "name": "stdout",
          "text": [
            "[[1]]\n"
          ]
        }
      ]
    },
    {
      "cell_type": "code",
      "source": [
        "test_case = {'discount': 20, 'overall rating': 111, 'total rating': 6, '5star': 5, '4star': 5, '3star': 5, '2star': 5, '1star': 5, 'reviews': 5, 'review link': 5, 'manufacturer info': 5, 'importer info': 0, 'packer info': 0, 'text verified': 1}\n"
      ],
      "metadata": {
        "id": "1pQvpXYRJJvB"
      },
      "execution_count": null,
      "outputs": []
    },
    {
      "cell_type": "code",
      "source": [
        "test_case_scaled = scaler.transform([list(test_case.values())])\n"
      ],
      "metadata": {
        "colab": {
          "base_uri": "https://localhost:8080/"
        },
        "id": "l1noFityJmNf",
        "outputId": "b869a547-9880-4e28-97d0-9d9db105e80a"
      },
      "execution_count": null,
      "outputs": [
        {
          "output_type": "stream",
          "name": "stderr",
          "text": [
            "/usr/local/lib/python3.8/dist-packages/sklearn/base.py:450: UserWarning: X does not have valid feature names, but StandardScaler was fitted with feature names\n",
            "  warnings.warn(\n"
          ]
        }
      ]
    },
    {
      "cell_type": "code",
      "source": [
        "prediction = model.predict(test_case_scaled)[0]\n"
      ],
      "metadata": {
        "id": "XZIhQIXGJoNR"
      },
      "execution_count": null,
      "outputs": []
    },
    {
      "cell_type": "code",
      "source": [
        "i = 1\n",
        "n = 190\n",
        "while i <= n:\n",
        "  x = [df.iloc[i, :14]]\n",
        "  prediction = model.predict(x)\n",
        "  print('prediction',i,prediction)\n",
        "  i+=1;"
      ],
      "metadata": {
        "colab": {
          "base_uri": "https://localhost:8080/"
        },
        "id": "H6rG3_kHUJKC",
        "outputId": "bdbea63e-5bba-42c0-d5af-3eba7b5772d8"
      },
      "execution_count": null,
      "outputs": [
        {
          "output_type": "stream",
          "name": "stdout",
          "text": [
            "prediction 1 [0]\n",
            "prediction 2 [0]\n",
            "prediction 3 [0]\n",
            "prediction 4 [0]\n",
            "prediction 5 [0]\n",
            "prediction 6 [0]\n",
            "prediction 7 [0]\n",
            "prediction 8 [0]\n",
            "prediction 9 [0]\n",
            "prediction 10 [0]\n",
            "prediction 11 [0]\n",
            "prediction 12 [0]\n",
            "prediction 13 [0]\n",
            "prediction 14 [0]\n",
            "prediction 15 [0]\n",
            "prediction 16 [0]\n",
            "prediction 17 [0]\n",
            "prediction 18 [0]\n",
            "prediction 19 [0]\n",
            "prediction 20 [0]\n",
            "prediction 21 [0]\n",
            "prediction 22 [0]\n",
            "prediction 23 [0]\n",
            "prediction 24 [0]\n",
            "prediction 25 [0]\n",
            "prediction 26 [0]\n",
            "prediction 27 [0]\n",
            "prediction 28 [0]\n",
            "prediction 29 [0]\n",
            "prediction 30 [0]\n",
            "prediction 31 [0]\n",
            "prediction 32 [0]\n",
            "prediction 33 [0]\n",
            "prediction 34 [0]\n",
            "prediction 35 [0]\n",
            "prediction 36 [0]\n",
            "prediction 37 [0]\n",
            "prediction 38 [0]\n",
            "prediction 39 [0]\n",
            "prediction 40 [0]\n",
            "prediction 41 [0]\n",
            "prediction 42 [0]\n",
            "prediction 43 [0]\n",
            "prediction 44 [0]\n",
            "prediction 45 [0]\n",
            "prediction 46 [0]\n",
            "prediction 47 [0]\n",
            "prediction 48 [0]\n",
            "prediction 49 [0]\n",
            "prediction 50 [0]\n",
            "prediction 51 [0]\n",
            "prediction 52 [0]\n",
            "prediction 53 [0]\n",
            "prediction 54 [0]\n",
            "prediction 55 [0]\n",
            "prediction 56 [0]\n",
            "prediction 57 [0]\n",
            "prediction 58 [0]\n",
            "prediction 59 [0]\n",
            "prediction 60 [0]\n",
            "prediction 61 [0]\n",
            "prediction 62 [0]\n",
            "prediction 63 [0]\n",
            "prediction 64 [0]\n",
            "prediction 65 [0]\n",
            "prediction 66 [0]\n",
            "prediction 67 [0]\n",
            "prediction 68 [0]\n",
            "prediction 69 [0]\n",
            "prediction 70 [0]\n",
            "prediction 71 [0]\n",
            "prediction 72 [0]\n",
            "prediction 73 [0]\n",
            "prediction 74 [0]\n",
            "prediction 75 [0]\n",
            "prediction 76 [0]\n",
            "prediction 77 [0]\n",
            "prediction 78 [0]\n",
            "prediction 79 [0]\n",
            "prediction 80 [0]\n",
            "prediction 81 [0]\n",
            "prediction 82 [0]\n",
            "prediction 83 [0]\n",
            "prediction 84 [0]\n",
            "prediction 85 [0]\n",
            "prediction 86 [0]\n",
            "prediction 87 [0]\n",
            "prediction 88 [0]\n",
            "prediction 89 [0]\n",
            "prediction 90 [0]\n",
            "prediction 91 [0]\n",
            "prediction 92 [0]\n",
            "prediction 93 [0]\n",
            "prediction 94 [0]\n",
            "prediction 95 [0]\n",
            "prediction 96 [0]\n",
            "prediction 97 [0]\n",
            "prediction 98 [0]\n",
            "prediction 99 [0]\n",
            "prediction 100 [0]\n",
            "prediction 101 [0]\n",
            "prediction 102 [0]\n",
            "prediction 103 [0]\n",
            "prediction 104 [0]\n",
            "prediction 105 [0]\n",
            "prediction 106 [0]\n",
            "prediction 107 [0]\n",
            "prediction 108 [0]\n",
            "prediction 109 [0]\n",
            "prediction 110 [0]\n",
            "prediction 111 [0]\n",
            "prediction 112 [0]\n",
            "prediction 113 [0]\n",
            "prediction 114 [0]\n",
            "prediction 115 [0]\n",
            "prediction 116 [0]\n",
            "prediction 117 [0]\n",
            "prediction 118 [0]\n",
            "prediction 119 [0]\n",
            "prediction 120 [0]\n",
            "prediction 121 [0]\n",
            "prediction 122 [0]\n",
            "prediction 123 [0]\n",
            "prediction 124 [0]\n",
            "prediction 125 [0]\n",
            "prediction 126 [0]\n",
            "prediction 127 [0]\n",
            "prediction 128 [0]\n",
            "prediction 129 [0]\n",
            "prediction 130 [0]\n",
            "prediction 131 [0]\n",
            "prediction 132 [0]\n",
            "prediction 133 [0]\n",
            "prediction 134 [0]\n",
            "prediction 135 [0]\n",
            "prediction 136 [0]\n",
            "prediction 137 [0]\n",
            "prediction 138 [0]\n",
            "prediction 139 [0]\n",
            "prediction 140 [0]\n",
            "prediction 141 [0]\n",
            "prediction 142 [0]\n",
            "prediction 143 [0]\n",
            "prediction 144 [0]\n",
            "prediction 145 [0]\n",
            "prediction 146 [0]\n",
            "prediction 147 [0]\n",
            "prediction 148 [0]\n",
            "prediction 149 [0]\n",
            "prediction 150 [0]\n",
            "prediction 151 [0]\n",
            "prediction 152 [0]\n",
            "prediction 153 [0]\n",
            "prediction 154 [0]\n",
            "prediction 155 [0]\n",
            "prediction 156 [0]\n",
            "prediction 157 [0]\n",
            "prediction 158 [0]\n",
            "prediction 159 [0]\n",
            "prediction 160 [0]\n",
            "prediction 161 [0]\n",
            "prediction 162 [0]\n",
            "prediction 163 [0]\n",
            "prediction 164 [0]\n",
            "prediction 165 [0]\n",
            "prediction 166 [0]\n",
            "prediction 167 [0]\n",
            "prediction 168 [0]\n",
            "prediction 169 [0]\n",
            "prediction 170 [0]\n",
            "prediction 171 [0]\n",
            "prediction 172 [0]\n",
            "prediction 173 [0]\n",
            "prediction 174 [0]\n",
            "prediction 175 [0]\n",
            "prediction 176 [0]\n",
            "prediction 177 [0]\n",
            "prediction 178 [0]\n",
            "prediction 179 [0]\n",
            "prediction 180 [0]\n",
            "prediction 181 [0]\n",
            "prediction 182 [0]\n",
            "prediction 183 [0]\n",
            "prediction 184 [0]\n",
            "prediction 185 [0]\n",
            "prediction 186 [0]\n",
            "prediction 187 [0]\n",
            "prediction 188 [0]\n",
            "prediction 189 [0]\n",
            "prediction 190 [0]\n"
          ]
        }
      ]
    },
    {
      "cell_type": "code",
      "source": [
        "x = [df.iloc[1, :14]]\n",
        "prediction = model.predict(x)\n",
        "print('prediction',prediction)\n",
        "print('x',x)\n",
        "  "
      ],
      "metadata": {
        "id": "b3WQg9kjuiQZ"
      },
      "execution_count": null,
      "outputs": []
    },
    {
      "cell_type": "code",
      "source": [
        "print('prediction',x ,prediction)"
      ],
      "metadata": {
        "id": "MSDtmmRwJqWJ"
      },
      "execution_count": null,
      "outputs": []
    },
    {
      "cell_type": "code",
      "source": [],
      "metadata": {
        "id": "gAq17vWJJyia"
      },
      "execution_count": null,
      "outputs": []
    }
  ]
}