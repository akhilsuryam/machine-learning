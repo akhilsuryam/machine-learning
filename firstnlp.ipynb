{
  "nbformat": 4,
  "nbformat_minor": 0,
  "metadata": {
    "colab": {
      "provenance": []
    },
    "kernelspec": {
      "name": "python3",
      "display_name": "Python 3"
    },
    "language_info": {
      "name": "python"
    }
  },
  "cells": [
    {
      "cell_type": "code",
      "execution_count": 1,
      "metadata": {
        "colab": {
          "base_uri": "https://localhost:8080/"
        },
        "id": "B0QKz1h1AF6M",
        "outputId": "2a7ebd36-1ab9-4247-809a-f5c41205c35e"
      },
      "outputs": [
        {
          "output_type": "stream",
          "name": "stderr",
          "text": [
            "/usr/local/lib/python3.8/dist-packages/torch/cuda/__init__.py:497: UserWarning: Can't initialize NVML\n",
            "  warnings.warn(\"Can't initialize NVML\")\n"
          ]
        },
        {
          "output_type": "stream",
          "name": "stdout",
          "text": [
            "Lifespan: lifespan\n",
            "Pros: pros\n",
            "Cons: cons\n"
          ]
        }
      ],
      "source": [
        "import spacy\n",
        "\n",
        "# Load the model and create a spaCy NLP object\n",
        "nlp = spacy.load(\"en_core_web_sm\")\n",
        "\n",
        "# Define a function to extract information from reviews\n",
        "def extract_info(review_text):\n",
        "    doc = nlp(review_text)\n",
        "    lifespan = \"\"\n",
        "    pros = \"\"\n",
        "    cons = \"\"\n",
        "    for token in doc:\n",
        "        if token.text.lower() == \"lifespan\":\n",
        "            lifespan = token.text\n",
        "        if token.text.lower() == \"pros\":\n",
        "            pros = token.text\n",
        "        if token.text.lower() == \"cons\":\n",
        "            cons = token.text\n",
        "    return lifespan, pros, cons\n",
        "\n",
        "# Test the function on a sample review\n",
        "review_text = \"This product has a great lifespan and many pros, but the cons are that it's quite expensive.\"\n",
        "lifespan, pros, cons = extract_info(review_text)\n",
        "print(\"Lifespan:\", lifespan)\n",
        "print(\"Pros:\", pros)\n",
        "print(\"Cons:\", cons)\n"
      ]
    },
    {
      "cell_type": "code",
      "source": [
        "from sklearn.feature_extraction.text import TfidfVectorizer\n",
        "from sklearn.svm import LinearSVC\n",
        "from sklearn.pipeline import Pipeline\n",
        "\n",
        "# Define the dataset\n",
        "reviews = [\"This product has a great lifespan and many pros, but the cons are that it's quite expensive.\",\n",
        "           \"The lifespan of this product is not very good, but it has some pros, such as being lightweight.\",\n",
        "           \"This product has a mediocre lifespan and not many pros or cons.\"]\n",
        "labels = [\"lifespan: good, pros: many, cons: expensive\",\n",
        "          \"lifespan: not good, pros: some, cons: none\",\n",
        "          \"lifespan: mediocre, pros: none, cons: none\"]\n",
        "\n",
        "# Define the pipeline: \n",
        "# 1- vectorize the input text\n",
        "# 2- train a linear support vector classifier on the vectors\n",
        "clf = Pipeline([('tfidf', TfidfVectorizer()),\n",
        "                ('clf', LinearSVC())])\n",
        "\n",
        "# Train the classifier on the dataset\n",
        "clf.fit(reviews, labels)\n",
        "\n",
        "# Test the classifier on a new review\n",
        "review_text = \"he charger not working. Raised a complaint under warranty. The service center guy tells that this has happened due to short circuit and not covered under warranty. All my home appliances are working fine and this charger has problem, how come this is an electrical issue? Anyways I had to throw this charger after merely using for 3 days. The ptron customer care also not responding. Please never buy this product because they don’t cover anything under warranty. If it works, it works else it’s you luck\"\n",
        "predicted_label = clf.predict([review_text])\n",
        "print(\"Predicted label:\", predicted_label)\n"
      ],
      "metadata": {
        "colab": {
          "base_uri": "https://localhost:8080/"
        },
        "id": "lvxEnuJTAHXP",
        "outputId": "d045ba2a-d9ec-437d-b00f-670f564395e6"
      },
      "execution_count": 4,
      "outputs": [
        {
          "output_type": "stream",
          "name": "stdout",
          "text": [
            "Predicted label: ['lifespan: good, pros: many, cons: expensive']\n"
          ]
        }
      ]
    },
    {
      "cell_type": "code",
      "source": [
        "from sklearn.feature_extraction.text import TfidfVectorizer\n",
        "from sklearn.svm import LinearSVC\n",
        "from sklearn.pipeline import Pipeline\n",
        "\n",
        "# Define the dataset\n",
        "reviews = [\"I love this product, it's amazing.\",\n",
        "           \"I am not a fan of this product, it's terrible.\",\n",
        "           \"I am neutral about this product, it's okay.\"]\n",
        "labels = [\"positive\", \"negative\", \"neutral\"]\n",
        "\n",
        "# Define the pipeline: \n",
        "# 1- vectorize the input text\n",
        "# 2- train a linear support vector classifier on the vectors\n",
        "clf = Pipeline([('tfidf', TfidfVectorizer()),\n",
        "                ('clf', LinearSVC())])\n",
        "\n",
        "# Train the classifier on the dataset\n",
        "clf.fit(reviews, labels)\n",
        "\n",
        "# Test the classifier on a new review\n",
        "review_text = \"Best product. I am very satisfied..\"\n",
        "predicted_label = clf.predict([review_text])\n",
        "print(\"Predicted label:\", predicted_label)"
      ],
      "metadata": {
        "colab": {
          "base_uri": "https://localhost:8080/"
        },
        "id": "G2Rwx5oCAxRH",
        "outputId": "2e3760e8-8206-471c-9e4b-a2b3e8817d95"
      },
      "execution_count": 6,
      "outputs": [
        {
          "output_type": "stream",
          "name": "stdout",
          "text": [
            "Predicted label: ['neutral']\n"
          ]
        }
      ]
    },
    {
      "cell_type": "code",
      "source": [],
      "metadata": {
        "id": "UzQIYcTzB2QG"
      },
      "execution_count": null,
      "outputs": []
    }
  ]
}