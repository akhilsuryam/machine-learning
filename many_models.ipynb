{
  "nbformat": 4,
  "nbformat_minor": 0,
  "metadata": {
    "colab": {
      "provenance": []
    },
    "kernelspec": {
      "name": "python3",
      "display_name": "Python 3"
    },
    "language_info": {
      "name": "python"
    }
  },
  "cells": [
    {
      "cell_type": "code",
      "execution_count": 1,
      "metadata": {
        "colab": {
          "base_uri": "https://localhost:8080/"
        },
        "id": "ZsmQirPCR-bB",
        "outputId": "7d19a27b-6b39-42c7-d234-b943c72709ad"
      },
      "outputs": [
        {
          "output_type": "stream",
          "name": "stdout",
          "text": [
            "['.config', 'sample_data']\n"
          ]
        }
      ],
      "source": [
        "import numpy as np\n",
        "import pandas as pd\n",
        "import matplotlib.pyplot as plt\n",
        "import seaborn as sns\n",
        "\n",
        "%matplotlib inline\n",
        "\n",
        "import os\n",
        "print(os.listdir())\n",
        "\n",
        "import warnings\n",
        "warnings.filterwarnings('ignore')"
      ]
    },
    {
      "cell_type": "code",
      "source": [
        "dataset = pd.read_csv(\"data3.csv\")\n"
      ],
      "metadata": {
        "id": "JZ2LmOh-Ux6H"
      },
      "execution_count": 2,
      "outputs": []
    },
    {
      "cell_type": "code",
      "source": [
        "type(dataset)\n"
      ],
      "metadata": {
        "colab": {
          "base_uri": "https://localhost:8080/"
        },
        "id": "bv-mBGXYXpvB",
        "outputId": "c04014fb-80fa-4043-dcf4-89b2b6f53ca4"
      },
      "execution_count": 3,
      "outputs": [
        {
          "output_type": "execute_result",
          "data": {
            "text/plain": [
              "pandas.core.frame.DataFrame"
            ]
          },
          "metadata": {},
          "execution_count": 3
        }
      ]
    },
    {
      "cell_type": "code",
      "source": [
        "dataset.shape\n"
      ],
      "metadata": {
        "colab": {
          "base_uri": "https://localhost:8080/"
        },
        "id": "Mk_mLsHHXwr7",
        "outputId": "18da9985-3055-4ba5-a45e-66de6439c4ef"
      },
      "execution_count": 4,
      "outputs": [
        {
          "output_type": "execute_result",
          "data": {
            "text/plain": [
              "(197, 15)"
            ]
          },
          "metadata": {},
          "execution_count": 4
        }
      ]
    },
    {
      "cell_type": "code",
      "source": [
        "dataset.head(5)\n"
      ],
      "metadata": {
        "colab": {
          "base_uri": "https://localhost:8080/",
          "height": 206
        },
        "id": "pH4QWPqZXyyl",
        "outputId": "abbafd60-f497-4d4c-ffe6-b58eab766b5c"
      },
      "execution_count": 5,
      "outputs": [
        {
          "output_type": "execute_result",
          "data": {
            "text/plain": [
              "   discount  overall rating  total rating  5star  4star  3star  2star  1star  \\\n",
              "0      1.62             5.0             6      6      0      0      0      0   \n",
              "1      0.00             0.0             0      0      0      0      0      0   \n",
              "2      0.22             0.0             0      0      0      0      0      0   \n",
              "3      2.00             5.0             1      1      0      0      0      0   \n",
              "4      3.20             5.0             2      2      0      0      0      0   \n",
              "\n",
              "   reviews  review link  manufacturer info  importer info  packer info  \\\n",
              "0        2            1                  0              0            0   \n",
              "1        0            0                  0              0            0   \n",
              "2        0            0                  0              0            0   \n",
              "3        0            0                  0              0            0   \n",
              "4        0            0                  0              0            0   \n",
              "\n",
              "   text verified  target  \n",
              "0              0       1  \n",
              "1              0       1  \n",
              "2              0       1  \n",
              "3              0       1  \n",
              "4              0       1  "
            ],
            "text/html": [
              "\n",
              "  <div id=\"df-3294989e-c71a-40b3-b3c3-1afd3e42aac0\">\n",
              "    <div class=\"colab-df-container\">\n",
              "      <div>\n",
              "<style scoped>\n",
              "    .dataframe tbody tr th:only-of-type {\n",
              "        vertical-align: middle;\n",
              "    }\n",
              "\n",
              "    .dataframe tbody tr th {\n",
              "        vertical-align: top;\n",
              "    }\n",
              "\n",
              "    .dataframe thead th {\n",
              "        text-align: right;\n",
              "    }\n",
              "</style>\n",
              "<table border=\"1\" class=\"dataframe\">\n",
              "  <thead>\n",
              "    <tr style=\"text-align: right;\">\n",
              "      <th></th>\n",
              "      <th>discount</th>\n",
              "      <th>overall rating</th>\n",
              "      <th>total rating</th>\n",
              "      <th>5star</th>\n",
              "      <th>4star</th>\n",
              "      <th>3star</th>\n",
              "      <th>2star</th>\n",
              "      <th>1star</th>\n",
              "      <th>reviews</th>\n",
              "      <th>review link</th>\n",
              "      <th>manufacturer info</th>\n",
              "      <th>importer info</th>\n",
              "      <th>packer info</th>\n",
              "      <th>text verified</th>\n",
              "      <th>target</th>\n",
              "    </tr>\n",
              "  </thead>\n",
              "  <tbody>\n",
              "    <tr>\n",
              "      <th>0</th>\n",
              "      <td>1.62</td>\n",
              "      <td>5.0</td>\n",
              "      <td>6</td>\n",
              "      <td>6</td>\n",
              "      <td>0</td>\n",
              "      <td>0</td>\n",
              "      <td>0</td>\n",
              "      <td>0</td>\n",
              "      <td>2</td>\n",
              "      <td>1</td>\n",
              "      <td>0</td>\n",
              "      <td>0</td>\n",
              "      <td>0</td>\n",
              "      <td>0</td>\n",
              "      <td>1</td>\n",
              "    </tr>\n",
              "    <tr>\n",
              "      <th>1</th>\n",
              "      <td>0.00</td>\n",
              "      <td>0.0</td>\n",
              "      <td>0</td>\n",
              "      <td>0</td>\n",
              "      <td>0</td>\n",
              "      <td>0</td>\n",
              "      <td>0</td>\n",
              "      <td>0</td>\n",
              "      <td>0</td>\n",
              "      <td>0</td>\n",
              "      <td>0</td>\n",
              "      <td>0</td>\n",
              "      <td>0</td>\n",
              "      <td>0</td>\n",
              "      <td>1</td>\n",
              "    </tr>\n",
              "    <tr>\n",
              "      <th>2</th>\n",
              "      <td>0.22</td>\n",
              "      <td>0.0</td>\n",
              "      <td>0</td>\n",
              "      <td>0</td>\n",
              "      <td>0</td>\n",
              "      <td>0</td>\n",
              "      <td>0</td>\n",
              "      <td>0</td>\n",
              "      <td>0</td>\n",
              "      <td>0</td>\n",
              "      <td>0</td>\n",
              "      <td>0</td>\n",
              "      <td>0</td>\n",
              "      <td>0</td>\n",
              "      <td>1</td>\n",
              "    </tr>\n",
              "    <tr>\n",
              "      <th>3</th>\n",
              "      <td>2.00</td>\n",
              "      <td>5.0</td>\n",
              "      <td>1</td>\n",
              "      <td>1</td>\n",
              "      <td>0</td>\n",
              "      <td>0</td>\n",
              "      <td>0</td>\n",
              "      <td>0</td>\n",
              "      <td>0</td>\n",
              "      <td>0</td>\n",
              "      <td>0</td>\n",
              "      <td>0</td>\n",
              "      <td>0</td>\n",
              "      <td>0</td>\n",
              "      <td>1</td>\n",
              "    </tr>\n",
              "    <tr>\n",
              "      <th>4</th>\n",
              "      <td>3.20</td>\n",
              "      <td>5.0</td>\n",
              "      <td>2</td>\n",
              "      <td>2</td>\n",
              "      <td>0</td>\n",
              "      <td>0</td>\n",
              "      <td>0</td>\n",
              "      <td>0</td>\n",
              "      <td>0</td>\n",
              "      <td>0</td>\n",
              "      <td>0</td>\n",
              "      <td>0</td>\n",
              "      <td>0</td>\n",
              "      <td>0</td>\n",
              "      <td>1</td>\n",
              "    </tr>\n",
              "  </tbody>\n",
              "</table>\n",
              "</div>\n",
              "      <button class=\"colab-df-convert\" onclick=\"convertToInteractive('df-3294989e-c71a-40b3-b3c3-1afd3e42aac0')\"\n",
              "              title=\"Convert this dataframe to an interactive table.\"\n",
              "              style=\"display:none;\">\n",
              "        \n",
              "  <svg xmlns=\"http://www.w3.org/2000/svg\" height=\"24px\"viewBox=\"0 0 24 24\"\n",
              "       width=\"24px\">\n",
              "    <path d=\"M0 0h24v24H0V0z\" fill=\"none\"/>\n",
              "    <path d=\"M18.56 5.44l.94 2.06.94-2.06 2.06-.94-2.06-.94-.94-2.06-.94 2.06-2.06.94zm-11 1L8.5 8.5l.94-2.06 2.06-.94-2.06-.94L8.5 2.5l-.94 2.06-2.06.94zm10 10l.94 2.06.94-2.06 2.06-.94-2.06-.94-.94-2.06-.94 2.06-2.06.94z\"/><path d=\"M17.41 7.96l-1.37-1.37c-.4-.4-.92-.59-1.43-.59-.52 0-1.04.2-1.43.59L10.3 9.45l-7.72 7.72c-.78.78-.78 2.05 0 2.83L4 21.41c.39.39.9.59 1.41.59.51 0 1.02-.2 1.41-.59l7.78-7.78 2.81-2.81c.8-.78.8-2.07 0-2.86zM5.41 20L4 18.59l7.72-7.72 1.47 1.35L5.41 20z\"/>\n",
              "  </svg>\n",
              "      </button>\n",
              "      \n",
              "  <style>\n",
              "    .colab-df-container {\n",
              "      display:flex;\n",
              "      flex-wrap:wrap;\n",
              "      gap: 12px;\n",
              "    }\n",
              "\n",
              "    .colab-df-convert {\n",
              "      background-color: #E8F0FE;\n",
              "      border: none;\n",
              "      border-radius: 50%;\n",
              "      cursor: pointer;\n",
              "      display: none;\n",
              "      fill: #1967D2;\n",
              "      height: 32px;\n",
              "      padding: 0 0 0 0;\n",
              "      width: 32px;\n",
              "    }\n",
              "\n",
              "    .colab-df-convert:hover {\n",
              "      background-color: #E2EBFA;\n",
              "      box-shadow: 0px 1px 2px rgba(60, 64, 67, 0.3), 0px 1px 3px 1px rgba(60, 64, 67, 0.15);\n",
              "      fill: #174EA6;\n",
              "    }\n",
              "\n",
              "    [theme=dark] .colab-df-convert {\n",
              "      background-color: #3B4455;\n",
              "      fill: #D2E3FC;\n",
              "    }\n",
              "\n",
              "    [theme=dark] .colab-df-convert:hover {\n",
              "      background-color: #434B5C;\n",
              "      box-shadow: 0px 1px 3px 1px rgba(0, 0, 0, 0.15);\n",
              "      filter: drop-shadow(0px 1px 2px rgba(0, 0, 0, 0.3));\n",
              "      fill: #FFFFFF;\n",
              "    }\n",
              "  </style>\n",
              "\n",
              "      <script>\n",
              "        const buttonEl =\n",
              "          document.querySelector('#df-3294989e-c71a-40b3-b3c3-1afd3e42aac0 button.colab-df-convert');\n",
              "        buttonEl.style.display =\n",
              "          google.colab.kernel.accessAllowed ? 'block' : 'none';\n",
              "\n",
              "        async function convertToInteractive(key) {\n",
              "          const element = document.querySelector('#df-3294989e-c71a-40b3-b3c3-1afd3e42aac0');\n",
              "          const dataTable =\n",
              "            await google.colab.kernel.invokeFunction('convertToInteractive',\n",
              "                                                     [key], {});\n",
              "          if (!dataTable) return;\n",
              "\n",
              "          const docLinkHtml = 'Like what you see? Visit the ' +\n",
              "            '<a target=\"_blank\" href=https://colab.research.google.com/notebooks/data_table.ipynb>data table notebook</a>'\n",
              "            + ' to learn more about interactive tables.';\n",
              "          element.innerHTML = '';\n",
              "          dataTable['output_type'] = 'display_data';\n",
              "          await google.colab.output.renderOutput(dataTable, element);\n",
              "          const docLink = document.createElement('div');\n",
              "          docLink.innerHTML = docLinkHtml;\n",
              "          element.appendChild(docLink);\n",
              "        }\n",
              "      </script>\n",
              "    </div>\n",
              "  </div>\n",
              "  "
            ]
          },
          "metadata": {},
          "execution_count": 5
        }
      ]
    },
    {
      "cell_type": "code",
      "source": [
        "dataset.sample(5)\n"
      ],
      "metadata": {
        "colab": {
          "base_uri": "https://localhost:8080/",
          "height": 206
        },
        "id": "V_zykU-1X2Gk",
        "outputId": "58439afb-f5ad-4d14-c43e-25a4c7bbe8df"
      },
      "execution_count": 6,
      "outputs": [
        {
          "output_type": "execute_result",
          "data": {
            "text/plain": [
              "     discount  overall rating  total rating  5star  4star  3star  2star  \\\n",
              "187     40.04             0.0             0      0      0      0      0   \n",
              "144     43.92             3.9            26     14      3      5      2   \n",
              "188     67.62             0.0             0      0      0      0      0   \n",
              "23      32.07             4.0          2666   1173    773    347    133   \n",
              "193     70.08             5.0             3      3      0      0      0   \n",
              "\n",
              "     1star  reviews  review link  manufacturer info  importer info  \\\n",
              "187      0        0            0                  0              0   \n",
              "144      2        0            1                  1              0   \n",
              "188      0        0            0                  1              0   \n",
              "23     213       57            1                  1              0   \n",
              "193      0        3            1                  1              1   \n",
              "\n",
              "     packer info  text verified  target  \n",
              "187            0              1       0  \n",
              "144            0              1       0  \n",
              "188            1              1       0  \n",
              "23             1              0       0  \n",
              "193            1              1       0  "
            ],
            "text/html": [
              "\n",
              "  <div id=\"df-f33afeb5-2168-46a4-a278-4d40aae6b086\">\n",
              "    <div class=\"colab-df-container\">\n",
              "      <div>\n",
              "<style scoped>\n",
              "    .dataframe tbody tr th:only-of-type {\n",
              "        vertical-align: middle;\n",
              "    }\n",
              "\n",
              "    .dataframe tbody tr th {\n",
              "        vertical-align: top;\n",
              "    }\n",
              "\n",
              "    .dataframe thead th {\n",
              "        text-align: right;\n",
              "    }\n",
              "</style>\n",
              "<table border=\"1\" class=\"dataframe\">\n",
              "  <thead>\n",
              "    <tr style=\"text-align: right;\">\n",
              "      <th></th>\n",
              "      <th>discount</th>\n",
              "      <th>overall rating</th>\n",
              "      <th>total rating</th>\n",
              "      <th>5star</th>\n",
              "      <th>4star</th>\n",
              "      <th>3star</th>\n",
              "      <th>2star</th>\n",
              "      <th>1star</th>\n",
              "      <th>reviews</th>\n",
              "      <th>review link</th>\n",
              "      <th>manufacturer info</th>\n",
              "      <th>importer info</th>\n",
              "      <th>packer info</th>\n",
              "      <th>text verified</th>\n",
              "      <th>target</th>\n",
              "    </tr>\n",
              "  </thead>\n",
              "  <tbody>\n",
              "    <tr>\n",
              "      <th>187</th>\n",
              "      <td>40.04</td>\n",
              "      <td>0.0</td>\n",
              "      <td>0</td>\n",
              "      <td>0</td>\n",
              "      <td>0</td>\n",
              "      <td>0</td>\n",
              "      <td>0</td>\n",
              "      <td>0</td>\n",
              "      <td>0</td>\n",
              "      <td>0</td>\n",
              "      <td>0</td>\n",
              "      <td>0</td>\n",
              "      <td>0</td>\n",
              "      <td>1</td>\n",
              "      <td>0</td>\n",
              "    </tr>\n",
              "    <tr>\n",
              "      <th>144</th>\n",
              "      <td>43.92</td>\n",
              "      <td>3.9</td>\n",
              "      <td>26</td>\n",
              "      <td>14</td>\n",
              "      <td>3</td>\n",
              "      <td>5</td>\n",
              "      <td>2</td>\n",
              "      <td>2</td>\n",
              "      <td>0</td>\n",
              "      <td>1</td>\n",
              "      <td>1</td>\n",
              "      <td>0</td>\n",
              "      <td>0</td>\n",
              "      <td>1</td>\n",
              "      <td>0</td>\n",
              "    </tr>\n",
              "    <tr>\n",
              "      <th>188</th>\n",
              "      <td>67.62</td>\n",
              "      <td>0.0</td>\n",
              "      <td>0</td>\n",
              "      <td>0</td>\n",
              "      <td>0</td>\n",
              "      <td>0</td>\n",
              "      <td>0</td>\n",
              "      <td>0</td>\n",
              "      <td>0</td>\n",
              "      <td>0</td>\n",
              "      <td>1</td>\n",
              "      <td>0</td>\n",
              "      <td>1</td>\n",
              "      <td>1</td>\n",
              "      <td>0</td>\n",
              "    </tr>\n",
              "    <tr>\n",
              "      <th>23</th>\n",
              "      <td>32.07</td>\n",
              "      <td>4.0</td>\n",
              "      <td>2666</td>\n",
              "      <td>1173</td>\n",
              "      <td>773</td>\n",
              "      <td>347</td>\n",
              "      <td>133</td>\n",
              "      <td>213</td>\n",
              "      <td>57</td>\n",
              "      <td>1</td>\n",
              "      <td>1</td>\n",
              "      <td>0</td>\n",
              "      <td>1</td>\n",
              "      <td>0</td>\n",
              "      <td>0</td>\n",
              "    </tr>\n",
              "    <tr>\n",
              "      <th>193</th>\n",
              "      <td>70.08</td>\n",
              "      <td>5.0</td>\n",
              "      <td>3</td>\n",
              "      <td>3</td>\n",
              "      <td>0</td>\n",
              "      <td>0</td>\n",
              "      <td>0</td>\n",
              "      <td>0</td>\n",
              "      <td>3</td>\n",
              "      <td>1</td>\n",
              "      <td>1</td>\n",
              "      <td>1</td>\n",
              "      <td>1</td>\n",
              "      <td>1</td>\n",
              "      <td>0</td>\n",
              "    </tr>\n",
              "  </tbody>\n",
              "</table>\n",
              "</div>\n",
              "      <button class=\"colab-df-convert\" onclick=\"convertToInteractive('df-f33afeb5-2168-46a4-a278-4d40aae6b086')\"\n",
              "              title=\"Convert this dataframe to an interactive table.\"\n",
              "              style=\"display:none;\">\n",
              "        \n",
              "  <svg xmlns=\"http://www.w3.org/2000/svg\" height=\"24px\"viewBox=\"0 0 24 24\"\n",
              "       width=\"24px\">\n",
              "    <path d=\"M0 0h24v24H0V0z\" fill=\"none\"/>\n",
              "    <path d=\"M18.56 5.44l.94 2.06.94-2.06 2.06-.94-2.06-.94-.94-2.06-.94 2.06-2.06.94zm-11 1L8.5 8.5l.94-2.06 2.06-.94-2.06-.94L8.5 2.5l-.94 2.06-2.06.94zm10 10l.94 2.06.94-2.06 2.06-.94-2.06-.94-.94-2.06-.94 2.06-2.06.94z\"/><path d=\"M17.41 7.96l-1.37-1.37c-.4-.4-.92-.59-1.43-.59-.52 0-1.04.2-1.43.59L10.3 9.45l-7.72 7.72c-.78.78-.78 2.05 0 2.83L4 21.41c.39.39.9.59 1.41.59.51 0 1.02-.2 1.41-.59l7.78-7.78 2.81-2.81c.8-.78.8-2.07 0-2.86zM5.41 20L4 18.59l7.72-7.72 1.47 1.35L5.41 20z\"/>\n",
              "  </svg>\n",
              "      </button>\n",
              "      \n",
              "  <style>\n",
              "    .colab-df-container {\n",
              "      display:flex;\n",
              "      flex-wrap:wrap;\n",
              "      gap: 12px;\n",
              "    }\n",
              "\n",
              "    .colab-df-convert {\n",
              "      background-color: #E8F0FE;\n",
              "      border: none;\n",
              "      border-radius: 50%;\n",
              "      cursor: pointer;\n",
              "      display: none;\n",
              "      fill: #1967D2;\n",
              "      height: 32px;\n",
              "      padding: 0 0 0 0;\n",
              "      width: 32px;\n",
              "    }\n",
              "\n",
              "    .colab-df-convert:hover {\n",
              "      background-color: #E2EBFA;\n",
              "      box-shadow: 0px 1px 2px rgba(60, 64, 67, 0.3), 0px 1px 3px 1px rgba(60, 64, 67, 0.15);\n",
              "      fill: #174EA6;\n",
              "    }\n",
              "\n",
              "    [theme=dark] .colab-df-convert {\n",
              "      background-color: #3B4455;\n",
              "      fill: #D2E3FC;\n",
              "    }\n",
              "\n",
              "    [theme=dark] .colab-df-convert:hover {\n",
              "      background-color: #434B5C;\n",
              "      box-shadow: 0px 1px 3px 1px rgba(0, 0, 0, 0.15);\n",
              "      filter: drop-shadow(0px 1px 2px rgba(0, 0, 0, 0.3));\n",
              "      fill: #FFFFFF;\n",
              "    }\n",
              "  </style>\n",
              "\n",
              "      <script>\n",
              "        const buttonEl =\n",
              "          document.querySelector('#df-f33afeb5-2168-46a4-a278-4d40aae6b086 button.colab-df-convert');\n",
              "        buttonEl.style.display =\n",
              "          google.colab.kernel.accessAllowed ? 'block' : 'none';\n",
              "\n",
              "        async function convertToInteractive(key) {\n",
              "          const element = document.querySelector('#df-f33afeb5-2168-46a4-a278-4d40aae6b086');\n",
              "          const dataTable =\n",
              "            await google.colab.kernel.invokeFunction('convertToInteractive',\n",
              "                                                     [key], {});\n",
              "          if (!dataTable) return;\n",
              "\n",
              "          const docLinkHtml = 'Like what you see? Visit the ' +\n",
              "            '<a target=\"_blank\" href=https://colab.research.google.com/notebooks/data_table.ipynb>data table notebook</a>'\n",
              "            + ' to learn more about interactive tables.';\n",
              "          element.innerHTML = '';\n",
              "          dataTable['output_type'] = 'display_data';\n",
              "          await google.colab.output.renderOutput(dataTable, element);\n",
              "          const docLink = document.createElement('div');\n",
              "          docLink.innerHTML = docLinkHtml;\n",
              "          element.appendChild(docLink);\n",
              "        }\n",
              "      </script>\n",
              "    </div>\n",
              "  </div>\n",
              "  "
            ]
          },
          "metadata": {},
          "execution_count": 6
        }
      ]
    },
    {
      "cell_type": "code",
      "source": [
        "dataset.describe()\n"
      ],
      "metadata": {
        "colab": {
          "base_uri": "https://localhost:8080/",
          "height": 382
        },
        "id": "jKzr1bB6X5m1",
        "outputId": "f2d4ee3d-0482-4e06-eb31-242112d212dc"
      },
      "execution_count": 7,
      "outputs": [
        {
          "output_type": "execute_result",
          "data": {
            "text/plain": [
              "         discount  overall rating  total rating         5star         4star  \\\n",
              "count  197.000000      197.000000    197.000000    197.000000    197.000000   \n",
              "mean    35.758071        2.628426    598.720812    313.045685    135.741117   \n",
              "std     24.879174        2.094820   4734.802227   2261.299212   1174.702450   \n",
              "min      0.000000        0.000000      0.000000      0.000000      0.000000   \n",
              "25%     10.020000        0.000000      0.000000      0.000000      0.000000   \n",
              "50%     36.050000        3.800000      2.000000      1.000000      0.000000   \n",
              "75%     58.430000        4.400000     12.000000      7.000000      3.000000   \n",
              "max     83.380000        5.000000  64768.000000  30441.000000  16192.000000   \n",
              "\n",
              "             3star        2star        1star     reviews  review link  \\\n",
              "count   197.000000   197.000000   197.000000  197.000000   197.000000   \n",
              "mean     73.695431    31.654822    44.472081   10.883249     0.461929   \n",
              "std     656.292811   282.313552   378.859238   73.120264     0.499819   \n",
              "min       0.000000     0.000000     0.000000    0.000000     0.000000   \n",
              "25%       0.000000     0.000000     0.000000    0.000000     0.000000   \n",
              "50%       0.000000     0.000000     0.000000    0.000000     0.000000   \n",
              "75%       2.000000     1.000000     2.000000    2.000000     1.000000   \n",
              "max    9068.000000  3886.000000  5181.000000  905.000000     1.000000   \n",
              "\n",
              "       manufacturer info  importer info  packer info  text verified  \\\n",
              "count         197.000000     197.000000   197.000000     197.000000   \n",
              "mean            0.791878       0.091371     0.329949       0.913706   \n",
              "std             0.406999       0.288869     0.471392       0.281514   \n",
              "min             0.000000       0.000000     0.000000       0.000000   \n",
              "25%             1.000000       0.000000     0.000000       1.000000   \n",
              "50%             1.000000       0.000000     0.000000       1.000000   \n",
              "75%             1.000000       0.000000     1.000000       1.000000   \n",
              "max             1.000000       1.000000     1.000000       1.000000   \n",
              "\n",
              "           target  \n",
              "count  197.000000  \n",
              "mean     0.182741  \n",
              "std      0.387439  \n",
              "min      0.000000  \n",
              "25%      0.000000  \n",
              "50%      0.000000  \n",
              "75%      0.000000  \n",
              "max      1.000000  "
            ],
            "text/html": [
              "\n",
              "  <div id=\"df-ef407797-c515-4643-af5a-60149871ea92\">\n",
              "    <div class=\"colab-df-container\">\n",
              "      <div>\n",
              "<style scoped>\n",
              "    .dataframe tbody tr th:only-of-type {\n",
              "        vertical-align: middle;\n",
              "    }\n",
              "\n",
              "    .dataframe tbody tr th {\n",
              "        vertical-align: top;\n",
              "    }\n",
              "\n",
              "    .dataframe thead th {\n",
              "        text-align: right;\n",
              "    }\n",
              "</style>\n",
              "<table border=\"1\" class=\"dataframe\">\n",
              "  <thead>\n",
              "    <tr style=\"text-align: right;\">\n",
              "      <th></th>\n",
              "      <th>discount</th>\n",
              "      <th>overall rating</th>\n",
              "      <th>total rating</th>\n",
              "      <th>5star</th>\n",
              "      <th>4star</th>\n",
              "      <th>3star</th>\n",
              "      <th>2star</th>\n",
              "      <th>1star</th>\n",
              "      <th>reviews</th>\n",
              "      <th>review link</th>\n",
              "      <th>manufacturer info</th>\n",
              "      <th>importer info</th>\n",
              "      <th>packer info</th>\n",
              "      <th>text verified</th>\n",
              "      <th>target</th>\n",
              "    </tr>\n",
              "  </thead>\n",
              "  <tbody>\n",
              "    <tr>\n",
              "      <th>count</th>\n",
              "      <td>197.000000</td>\n",
              "      <td>197.000000</td>\n",
              "      <td>197.000000</td>\n",
              "      <td>197.000000</td>\n",
              "      <td>197.000000</td>\n",
              "      <td>197.000000</td>\n",
              "      <td>197.000000</td>\n",
              "      <td>197.000000</td>\n",
              "      <td>197.000000</td>\n",
              "      <td>197.000000</td>\n",
              "      <td>197.000000</td>\n",
              "      <td>197.000000</td>\n",
              "      <td>197.000000</td>\n",
              "      <td>197.000000</td>\n",
              "      <td>197.000000</td>\n",
              "    </tr>\n",
              "    <tr>\n",
              "      <th>mean</th>\n",
              "      <td>35.758071</td>\n",
              "      <td>2.628426</td>\n",
              "      <td>598.720812</td>\n",
              "      <td>313.045685</td>\n",
              "      <td>135.741117</td>\n",
              "      <td>73.695431</td>\n",
              "      <td>31.654822</td>\n",
              "      <td>44.472081</td>\n",
              "      <td>10.883249</td>\n",
              "      <td>0.461929</td>\n",
              "      <td>0.791878</td>\n",
              "      <td>0.091371</td>\n",
              "      <td>0.329949</td>\n",
              "      <td>0.913706</td>\n",
              "      <td>0.182741</td>\n",
              "    </tr>\n",
              "    <tr>\n",
              "      <th>std</th>\n",
              "      <td>24.879174</td>\n",
              "      <td>2.094820</td>\n",
              "      <td>4734.802227</td>\n",
              "      <td>2261.299212</td>\n",
              "      <td>1174.702450</td>\n",
              "      <td>656.292811</td>\n",
              "      <td>282.313552</td>\n",
              "      <td>378.859238</td>\n",
              "      <td>73.120264</td>\n",
              "      <td>0.499819</td>\n",
              "      <td>0.406999</td>\n",
              "      <td>0.288869</td>\n",
              "      <td>0.471392</td>\n",
              "      <td>0.281514</td>\n",
              "      <td>0.387439</td>\n",
              "    </tr>\n",
              "    <tr>\n",
              "      <th>min</th>\n",
              "      <td>0.000000</td>\n",
              "      <td>0.000000</td>\n",
              "      <td>0.000000</td>\n",
              "      <td>0.000000</td>\n",
              "      <td>0.000000</td>\n",
              "      <td>0.000000</td>\n",
              "      <td>0.000000</td>\n",
              "      <td>0.000000</td>\n",
              "      <td>0.000000</td>\n",
              "      <td>0.000000</td>\n",
              "      <td>0.000000</td>\n",
              "      <td>0.000000</td>\n",
              "      <td>0.000000</td>\n",
              "      <td>0.000000</td>\n",
              "      <td>0.000000</td>\n",
              "    </tr>\n",
              "    <tr>\n",
              "      <th>25%</th>\n",
              "      <td>10.020000</td>\n",
              "      <td>0.000000</td>\n",
              "      <td>0.000000</td>\n",
              "      <td>0.000000</td>\n",
              "      <td>0.000000</td>\n",
              "      <td>0.000000</td>\n",
              "      <td>0.000000</td>\n",
              "      <td>0.000000</td>\n",
              "      <td>0.000000</td>\n",
              "      <td>0.000000</td>\n",
              "      <td>1.000000</td>\n",
              "      <td>0.000000</td>\n",
              "      <td>0.000000</td>\n",
              "      <td>1.000000</td>\n",
              "      <td>0.000000</td>\n",
              "    </tr>\n",
              "    <tr>\n",
              "      <th>50%</th>\n",
              "      <td>36.050000</td>\n",
              "      <td>3.800000</td>\n",
              "      <td>2.000000</td>\n",
              "      <td>1.000000</td>\n",
              "      <td>0.000000</td>\n",
              "      <td>0.000000</td>\n",
              "      <td>0.000000</td>\n",
              "      <td>0.000000</td>\n",
              "      <td>0.000000</td>\n",
              "      <td>0.000000</td>\n",
              "      <td>1.000000</td>\n",
              "      <td>0.000000</td>\n",
              "      <td>0.000000</td>\n",
              "      <td>1.000000</td>\n",
              "      <td>0.000000</td>\n",
              "    </tr>\n",
              "    <tr>\n",
              "      <th>75%</th>\n",
              "      <td>58.430000</td>\n",
              "      <td>4.400000</td>\n",
              "      <td>12.000000</td>\n",
              "      <td>7.000000</td>\n",
              "      <td>3.000000</td>\n",
              "      <td>2.000000</td>\n",
              "      <td>1.000000</td>\n",
              "      <td>2.000000</td>\n",
              "      <td>2.000000</td>\n",
              "      <td>1.000000</td>\n",
              "      <td>1.000000</td>\n",
              "      <td>0.000000</td>\n",
              "      <td>1.000000</td>\n",
              "      <td>1.000000</td>\n",
              "      <td>0.000000</td>\n",
              "    </tr>\n",
              "    <tr>\n",
              "      <th>max</th>\n",
              "      <td>83.380000</td>\n",
              "      <td>5.000000</td>\n",
              "      <td>64768.000000</td>\n",
              "      <td>30441.000000</td>\n",
              "      <td>16192.000000</td>\n",
              "      <td>9068.000000</td>\n",
              "      <td>3886.000000</td>\n",
              "      <td>5181.000000</td>\n",
              "      <td>905.000000</td>\n",
              "      <td>1.000000</td>\n",
              "      <td>1.000000</td>\n",
              "      <td>1.000000</td>\n",
              "      <td>1.000000</td>\n",
              "      <td>1.000000</td>\n",
              "      <td>1.000000</td>\n",
              "    </tr>\n",
              "  </tbody>\n",
              "</table>\n",
              "</div>\n",
              "      <button class=\"colab-df-convert\" onclick=\"convertToInteractive('df-ef407797-c515-4643-af5a-60149871ea92')\"\n",
              "              title=\"Convert this dataframe to an interactive table.\"\n",
              "              style=\"display:none;\">\n",
              "        \n",
              "  <svg xmlns=\"http://www.w3.org/2000/svg\" height=\"24px\"viewBox=\"0 0 24 24\"\n",
              "       width=\"24px\">\n",
              "    <path d=\"M0 0h24v24H0V0z\" fill=\"none\"/>\n",
              "    <path d=\"M18.56 5.44l.94 2.06.94-2.06 2.06-.94-2.06-.94-.94-2.06-.94 2.06-2.06.94zm-11 1L8.5 8.5l.94-2.06 2.06-.94-2.06-.94L8.5 2.5l-.94 2.06-2.06.94zm10 10l.94 2.06.94-2.06 2.06-.94-2.06-.94-.94-2.06-.94 2.06-2.06.94z\"/><path d=\"M17.41 7.96l-1.37-1.37c-.4-.4-.92-.59-1.43-.59-.52 0-1.04.2-1.43.59L10.3 9.45l-7.72 7.72c-.78.78-.78 2.05 0 2.83L4 21.41c.39.39.9.59 1.41.59.51 0 1.02-.2 1.41-.59l7.78-7.78 2.81-2.81c.8-.78.8-2.07 0-2.86zM5.41 20L4 18.59l7.72-7.72 1.47 1.35L5.41 20z\"/>\n",
              "  </svg>\n",
              "      </button>\n",
              "      \n",
              "  <style>\n",
              "    .colab-df-container {\n",
              "      display:flex;\n",
              "      flex-wrap:wrap;\n",
              "      gap: 12px;\n",
              "    }\n",
              "\n",
              "    .colab-df-convert {\n",
              "      background-color: #E8F0FE;\n",
              "      border: none;\n",
              "      border-radius: 50%;\n",
              "      cursor: pointer;\n",
              "      display: none;\n",
              "      fill: #1967D2;\n",
              "      height: 32px;\n",
              "      padding: 0 0 0 0;\n",
              "      width: 32px;\n",
              "    }\n",
              "\n",
              "    .colab-df-convert:hover {\n",
              "      background-color: #E2EBFA;\n",
              "      box-shadow: 0px 1px 2px rgba(60, 64, 67, 0.3), 0px 1px 3px 1px rgba(60, 64, 67, 0.15);\n",
              "      fill: #174EA6;\n",
              "    }\n",
              "\n",
              "    [theme=dark] .colab-df-convert {\n",
              "      background-color: #3B4455;\n",
              "      fill: #D2E3FC;\n",
              "    }\n",
              "\n",
              "    [theme=dark] .colab-df-convert:hover {\n",
              "      background-color: #434B5C;\n",
              "      box-shadow: 0px 1px 3px 1px rgba(0, 0, 0, 0.15);\n",
              "      filter: drop-shadow(0px 1px 2px rgba(0, 0, 0, 0.3));\n",
              "      fill: #FFFFFF;\n",
              "    }\n",
              "  </style>\n",
              "\n",
              "      <script>\n",
              "        const buttonEl =\n",
              "          document.querySelector('#df-ef407797-c515-4643-af5a-60149871ea92 button.colab-df-convert');\n",
              "        buttonEl.style.display =\n",
              "          google.colab.kernel.accessAllowed ? 'block' : 'none';\n",
              "\n",
              "        async function convertToInteractive(key) {\n",
              "          const element = document.querySelector('#df-ef407797-c515-4643-af5a-60149871ea92');\n",
              "          const dataTable =\n",
              "            await google.colab.kernel.invokeFunction('convertToInteractive',\n",
              "                                                     [key], {});\n",
              "          if (!dataTable) return;\n",
              "\n",
              "          const docLinkHtml = 'Like what you see? Visit the ' +\n",
              "            '<a target=\"_blank\" href=https://colab.research.google.com/notebooks/data_table.ipynb>data table notebook</a>'\n",
              "            + ' to learn more about interactive tables.';\n",
              "          element.innerHTML = '';\n",
              "          dataTable['output_type'] = 'display_data';\n",
              "          await google.colab.output.renderOutput(dataTable, element);\n",
              "          const docLink = document.createElement('div');\n",
              "          docLink.innerHTML = docLinkHtml;\n",
              "          element.appendChild(docLink);\n",
              "        }\n",
              "      </script>\n",
              "    </div>\n",
              "  </div>\n",
              "  "
            ]
          },
          "metadata": {},
          "execution_count": 7
        }
      ]
    },
    {
      "cell_type": "code",
      "source": [
        "dataset.info()\n",
        "\n"
      ],
      "metadata": {
        "colab": {
          "base_uri": "https://localhost:8080/"
        },
        "id": "O2m8APmIX8CY",
        "outputId": "0e4d1f1f-c5c3-4193-84c0-fd06198df028"
      },
      "execution_count": 8,
      "outputs": [
        {
          "output_type": "stream",
          "name": "stdout",
          "text": [
            "<class 'pandas.core.frame.DataFrame'>\n",
            "RangeIndex: 197 entries, 0 to 196\n",
            "Data columns (total 15 columns):\n",
            " #   Column             Non-Null Count  Dtype  \n",
            "---  ------             --------------  -----  \n",
            " 0   discount           197 non-null    float64\n",
            " 1   overall rating     197 non-null    float64\n",
            " 2   total rating       197 non-null    int64  \n",
            " 3   5star              197 non-null    int64  \n",
            " 4   4star              197 non-null    int64  \n",
            " 5   3star              197 non-null    int64  \n",
            " 6   2star              197 non-null    int64  \n",
            " 7   1star              197 non-null    int64  \n",
            " 8   reviews            197 non-null    int64  \n",
            " 9   review link        197 non-null    int64  \n",
            " 10  manufacturer info  197 non-null    int64  \n",
            " 11  importer info      197 non-null    int64  \n",
            " 12  packer info        197 non-null    int64  \n",
            " 13  text verified      197 non-null    int64  \n",
            " 14  target             197 non-null    int64  \n",
            "dtypes: float64(2), int64(13)\n",
            "memory usage: 23.2 KB\n"
          ]
        }
      ]
    },
    {
      "cell_type": "code",
      "source": [
        "info = [\"discount\",\"overall rating\",\"total rating\",\"5star\",\"4star\",\"3star\",\"2star\",\"1star\",\"reviews\",\"review link,1: yes, 0: no\",\"manufacturer info,1: yes, 0: no\",\"importer info,1: yes, 0: no\",\"packer info,1: yes, 0: no\",\"text verified,1: yes, 0: no\",\"target ,1: yes, 0: no\"]\n",
        "\n",
        "\n",
        "\n",
        "for i in range(len(info)):\n",
        "    print(dataset.columns[i]+\":\\t\\t\\t\"+info[i])"
      ],
      "metadata": {
        "colab": {
          "base_uri": "https://localhost:8080/"
        },
        "id": "xBmZXpHOYFQx",
        "outputId": "1625bb08-b479-4eb9-a7b6-fe20ff478415"
      },
      "execution_count": 10,
      "outputs": [
        {
          "output_type": "stream",
          "name": "stdout",
          "text": [
            "discount:\t\t\tdiscount\n",
            "overall rating:\t\t\toverall rating\n",
            "total rating:\t\t\ttotal rating\n",
            "5star:\t\t\t5star\n",
            "4star:\t\t\t4star\n",
            "3star:\t\t\t3star\n",
            "2star:\t\t\t2star\n",
            "1star:\t\t\t1star\n",
            "reviews:\t\t\treviews\n",
            "review link:\t\t\treview link,1: yes, 0: no\n",
            "manufacturer info:\t\t\tmanufacturer info,1: yes, 0: no\n",
            "importer info:\t\t\timporter info,1: yes, 0: no\n",
            "packer info:\t\t\tpacker info,1: yes, 0: no\n",
            "text verified:\t\t\ttext verified,1: yes, 0: no\n",
            "target:\t\t\ttarget ,1: yes, 0: no\n"
          ]
        }
      ]
    },
    {
      "cell_type": "code",
      "source": [
        "dataset[\"target\"].describe()"
      ],
      "metadata": {
        "colab": {
          "base_uri": "https://localhost:8080/"
        },
        "id": "tPbERfHVYeT0",
        "outputId": "b100e7c8-5226-4991-ff05-7c93ca5fa18f"
      },
      "execution_count": 11,
      "outputs": [
        {
          "output_type": "execute_result",
          "data": {
            "text/plain": [
              "count    197.000000\n",
              "mean       0.182741\n",
              "std        0.387439\n",
              "min        0.000000\n",
              "25%        0.000000\n",
              "50%        0.000000\n",
              "75%        0.000000\n",
              "max        1.000000\n",
              "Name: target, dtype: float64"
            ]
          },
          "metadata": {},
          "execution_count": 11
        }
      ]
    },
    {
      "cell_type": "code",
      "source": [
        "dataset[\"target\"].unique()"
      ],
      "metadata": {
        "colab": {
          "base_uri": "https://localhost:8080/"
        },
        "id": "iukzDp-FYn8G",
        "outputId": "f949b99d-6c89-4cc0-8300-e707868115d4"
      },
      "execution_count": 12,
      "outputs": [
        {
          "output_type": "execute_result",
          "data": {
            "text/plain": [
              "array([1, 0])"
            ]
          },
          "metadata": {},
          "execution_count": 12
        }
      ]
    },
    {
      "cell_type": "code",
      "source": [
        "print(dataset.corr()[\"target\"].abs().sort_values(ascending=False))\n"
      ],
      "metadata": {
        "colab": {
          "base_uri": "https://localhost:8080/"
        },
        "id": "3WYCmBSsYpjR",
        "outputId": "d326804e-ceb6-47ae-d777-c0846b6bdbd5"
      },
      "execution_count": 13,
      "outputs": [
        {
          "output_type": "stream",
          "name": "stdout",
          "text": [
            "target               1.000000\n",
            "review link          0.385439\n",
            "text verified        0.322459\n",
            "discount             0.290948\n",
            "manufacturer info    0.275268\n",
            "overall rating       0.164219\n",
            "packer info          0.136275\n",
            "importer info        0.104364\n",
            "reviews              0.067859\n",
            "5star                0.063538\n",
            "total rating         0.058108\n",
            "1star                0.054084\n",
            "4star                0.053222\n",
            "2star                0.052176\n",
            "3star                0.051267\n",
            "Name: target, dtype: float64\n"
          ]
        }
      ]
    },
    {
      "cell_type": "code",
      "source": [
        "from sklearn.model_selection import train_test_split\n",
        "\n",
        "predictors = dataset.drop(\"target\",axis=1)\n",
        "target = dataset[\"target\"]\n",
        "\n",
        "X_train,X_test,Y_train,Y_test = train_test_split(predictors,target,test_size=0.20,random_state=0)"
      ],
      "metadata": {
        "id": "a8fLF6EbYro_"
      },
      "execution_count": 14,
      "outputs": []
    },
    {
      "cell_type": "code",
      "source": [
        "X_train.shape"
      ],
      "metadata": {
        "colab": {
          "base_uri": "https://localhost:8080/"
        },
        "id": "OBKVqG4jY1pv",
        "outputId": "a367984f-86ea-4cf7-d72e-755791ea8e20"
      },
      "execution_count": 15,
      "outputs": [
        {
          "output_type": "execute_result",
          "data": {
            "text/plain": [
              "(157, 14)"
            ]
          },
          "metadata": {},
          "execution_count": 15
        }
      ]
    },
    {
      "cell_type": "code",
      "source": [
        "X_test.shape\n"
      ],
      "metadata": {
        "colab": {
          "base_uri": "https://localhost:8080/"
        },
        "id": "h9lachG4Y5uN",
        "outputId": "4c33bbb5-0caa-49db-d1e4-1439baafa8f3"
      },
      "execution_count": 16,
      "outputs": [
        {
          "output_type": "execute_result",
          "data": {
            "text/plain": [
              "(40, 14)"
            ]
          },
          "metadata": {},
          "execution_count": 16
        }
      ]
    },
    {
      "cell_type": "code",
      "source": [
        "Y_train.shape\n"
      ],
      "metadata": {
        "colab": {
          "base_uri": "https://localhost:8080/"
        },
        "id": "Vu6Z1x5YY7YI",
        "outputId": "44e9123a-5ef6-467f-bc85-4b7036246c7d"
      },
      "execution_count": 17,
      "outputs": [
        {
          "output_type": "execute_result",
          "data": {
            "text/plain": [
              "(157,)"
            ]
          },
          "metadata": {},
          "execution_count": 17
        }
      ]
    },
    {
      "cell_type": "code",
      "source": [
        "Y_test.shape\n"
      ],
      "metadata": {
        "colab": {
          "base_uri": "https://localhost:8080/"
        },
        "id": "RcPQaRnnY9kM",
        "outputId": "714d1eff-5418-46d8-9097-f1f8334df610"
      },
      "execution_count": 18,
      "outputs": [
        {
          "output_type": "execute_result",
          "data": {
            "text/plain": [
              "(40,)"
            ]
          },
          "metadata": {},
          "execution_count": 18
        }
      ]
    },
    {
      "cell_type": "code",
      "source": [
        "from sklearn.metrics import accuracy_score\n"
      ],
      "metadata": {
        "id": "YOXJ_2HiY_Gz"
      },
      "execution_count": 19,
      "outputs": []
    },
    {
      "cell_type": "code",
      "source": [
        "from sklearn.linear_model import LogisticRegression\n",
        "\n",
        "lr = LogisticRegression()\n",
        "\n",
        "lr.fit(X_train,Y_train)\n",
        "\n",
        "Y_pred_lr = lr.predict(X_test)"
      ],
      "metadata": {
        "id": "gnmt-wf5ZA0P"
      },
      "execution_count": 20,
      "outputs": []
    },
    {
      "cell_type": "code",
      "source": [
        "\n",
        "Y_pred_lr.shape"
      ],
      "metadata": {
        "colab": {
          "base_uri": "https://localhost:8080/"
        },
        "id": "u62gvX66ZEsO",
        "outputId": "6ee94064-8c1f-4e2e-e573-e728f1aabdd6"
      },
      "execution_count": 21,
      "outputs": [
        {
          "output_type": "execute_result",
          "data": {
            "text/plain": [
              "(40,)"
            ]
          },
          "metadata": {},
          "execution_count": 21
        }
      ]
    },
    {
      "cell_type": "code",
      "source": [
        "score_lr = round(accuracy_score(Y_pred_lr,Y_test)*100,2)\n",
        "\n",
        "print(\"The accuracy score achieved using Logistic Regression is: \"+str(score_lr)+\" %\")\n"
      ],
      "metadata": {
        "colab": {
          "base_uri": "https://localhost:8080/"
        },
        "id": "fMBT6AEiZGZN",
        "outputId": "b1ecd02e-315b-41e6-aa8b-b48987a16739"
      },
      "execution_count": 22,
      "outputs": [
        {
          "output_type": "stream",
          "name": "stdout",
          "text": [
            "The accuracy score achieved using Logistic Regression is: 90.0 %\n"
          ]
        }
      ]
    },
    {
      "cell_type": "code",
      "source": [
        "i = 1\n",
        "n = 190\n",
        "while i <= n:\n",
        "  # x = [df.iloc[i, :14]]\n",
        "  prediction = lr.predict([dataset.iloc[i, :14]])\n",
        "  print('prediction',i,prediction)\n",
        "  i+=1;"
      ],
      "metadata": {
        "colab": {
          "base_uri": "https://localhost:8080/"
        },
        "id": "Sw6x3eQwkL0g",
        "outputId": "525b6ea2-4685-40dc-ec04-cff22d1a1b2e"
      },
      "execution_count": 73,
      "outputs": [
        {
          "output_type": "stream",
          "name": "stdout",
          "text": [
            "prediction 1 [1]\n",
            "prediction 2 [1]\n",
            "prediction 3 [1]\n",
            "prediction 4 [1]\n",
            "prediction 5 [1]\n",
            "prediction 6 [1]\n",
            "prediction 7 [0]\n",
            "prediction 8 [1]\n",
            "prediction 9 [0]\n",
            "prediction 10 [1]\n",
            "prediction 11 [1]\n",
            "prediction 12 [0]\n",
            "prediction 13 [1]\n",
            "prediction 14 [1]\n",
            "prediction 15 [1]\n",
            "prediction 16 [1]\n",
            "prediction 17 [0]\n",
            "prediction 18 [1]\n",
            "prediction 19 [1]\n",
            "prediction 20 [1]\n",
            "prediction 21 [0]\n",
            "prediction 22 [0]\n",
            "prediction 23 [0]\n",
            "prediction 24 [0]\n",
            "prediction 25 [0]\n",
            "prediction 26 [0]\n",
            "prediction 27 [0]\n",
            "prediction 28 [0]\n",
            "prediction 29 [0]\n",
            "prediction 30 [0]\n",
            "prediction 31 [0]\n",
            "prediction 32 [0]\n",
            "prediction 33 [0]\n",
            "prediction 34 [0]\n",
            "prediction 35 [0]\n",
            "prediction 36 [0]\n",
            "prediction 37 [0]\n",
            "prediction 38 [0]\n",
            "prediction 39 [0]\n",
            "prediction 40 [0]\n",
            "prediction 41 [1]\n",
            "prediction 42 [1]\n",
            "prediction 43 [0]\n",
            "prediction 44 [0]\n",
            "prediction 45 [0]\n",
            "prediction 46 [0]\n",
            "prediction 47 [0]\n",
            "prediction 48 [1]\n",
            "prediction 49 [0]\n",
            "prediction 50 [0]\n",
            "prediction 51 [0]\n",
            "prediction 52 [0]\n",
            "prediction 53 [0]\n",
            "prediction 54 [0]\n",
            "prediction 55 [0]\n",
            "prediction 56 [0]\n",
            "prediction 57 [0]\n",
            "prediction 58 [0]\n",
            "prediction 59 [0]\n",
            "prediction 60 [0]\n",
            "prediction 61 [0]\n",
            "prediction 62 [0]\n",
            "prediction 63 [0]\n",
            "prediction 64 [0]\n",
            "prediction 65 [0]\n",
            "prediction 66 [1]\n",
            "prediction 67 [0]\n",
            "prediction 68 [0]\n",
            "prediction 69 [0]\n",
            "prediction 70 [0]\n",
            "prediction 71 [0]\n",
            "prediction 72 [0]\n",
            "prediction 73 [1]\n",
            "prediction 74 [0]\n",
            "prediction 75 [0]\n",
            "prediction 76 [0]\n",
            "prediction 77 [0]\n",
            "prediction 78 [0]\n",
            "prediction 79 [0]\n",
            "prediction 80 [1]\n",
            "prediction 81 [0]\n",
            "prediction 82 [0]\n",
            "prediction 83 [0]\n",
            "prediction 84 [0]\n",
            "prediction 85 [0]\n",
            "prediction 86 [0]\n",
            "prediction 87 [0]\n",
            "prediction 88 [0]\n",
            "prediction 89 [0]\n",
            "prediction 90 [0]\n",
            "prediction 91 [0]\n",
            "prediction 92 [0]\n",
            "prediction 93 [0]\n",
            "prediction 94 [0]\n",
            "prediction 95 [0]\n",
            "prediction 96 [0]\n",
            "prediction 97 [0]\n",
            "prediction 98 [0]\n",
            "prediction 99 [0]\n",
            "prediction 100 [0]\n",
            "prediction 101 [0]\n",
            "prediction 102 [0]\n",
            "prediction 103 [0]\n",
            "prediction 104 [0]\n",
            "prediction 105 [0]\n",
            "prediction 106 [0]\n",
            "prediction 107 [0]\n",
            "prediction 108 [0]\n",
            "prediction 109 [0]\n",
            "prediction 110 [0]\n",
            "prediction 111 [0]\n",
            "prediction 112 [0]\n",
            "prediction 113 [0]\n",
            "prediction 114 [0]\n",
            "prediction 115 [0]\n",
            "prediction 116 [0]\n",
            "prediction 117 [0]\n",
            "prediction 118 [0]\n",
            "prediction 119 [0]\n",
            "prediction 120 [0]\n",
            "prediction 121 [0]\n",
            "prediction 122 [0]\n",
            "prediction 123 [0]\n",
            "prediction 124 [0]\n",
            "prediction 125 [0]\n",
            "prediction 126 [0]\n",
            "prediction 127 [0]\n",
            "prediction 128 [1]\n",
            "prediction 129 [1]\n",
            "prediction 130 [0]\n",
            "prediction 131 [0]\n",
            "prediction 132 [0]\n",
            "prediction 133 [0]\n",
            "prediction 134 [0]\n",
            "prediction 135 [0]\n",
            "prediction 136 [0]\n",
            "prediction 137 [0]\n",
            "prediction 138 [0]\n",
            "prediction 139 [0]\n",
            "prediction 140 [0]\n",
            "prediction 141 [0]\n",
            "prediction 142 [0]\n",
            "prediction 143 [0]\n",
            "prediction 144 [0]\n",
            "prediction 145 [0]\n",
            "prediction 146 [0]\n",
            "prediction 147 [0]\n",
            "prediction 148 [0]\n",
            "prediction 149 [0]\n",
            "prediction 150 [0]\n",
            "prediction 151 [0]\n",
            "prediction 152 [0]\n",
            "prediction 153 [0]\n",
            "prediction 154 [0]\n",
            "prediction 155 [0]\n",
            "prediction 156 [0]\n",
            "prediction 157 [0]\n",
            "prediction 158 [0]\n",
            "prediction 159 [0]\n",
            "prediction 160 [0]\n",
            "prediction 161 [0]\n",
            "prediction 162 [0]\n",
            "prediction 163 [0]\n",
            "prediction 164 [0]\n",
            "prediction 165 [0]\n",
            "prediction 166 [0]\n",
            "prediction 167 [0]\n",
            "prediction 168 [0]\n",
            "prediction 169 [0]\n",
            "prediction 170 [0]\n",
            "prediction 171 [0]\n",
            "prediction 172 [0]\n",
            "prediction 173 [0]\n",
            "prediction 174 [0]\n",
            "prediction 175 [0]\n",
            "prediction 176 [0]\n",
            "prediction 177 [0]\n",
            "prediction 178 [0]\n",
            "prediction 179 [0]\n",
            "prediction 180 [0]\n",
            "prediction 181 [0]\n",
            "prediction 182 [0]\n",
            "prediction 183 [0]\n",
            "prediction 184 [0]\n",
            "prediction 185 [0]\n",
            "prediction 186 [0]\n",
            "prediction 187 [0]\n",
            "prediction 188 [0]\n",
            "prediction 189 [0]\n",
            "prediction 190 [0]\n"
          ]
        }
      ]
    },
    {
      "cell_type": "code",
      "source": [
        "from sklearn.naive_bayes import GaussianNB\n",
        "\n",
        "nb = GaussianNB()\n",
        "\n",
        "nb.fit(X_train,Y_train)\n",
        "\n",
        "Y_pred_nb = nb.predict(X_test)"
      ],
      "metadata": {
        "id": "SZqVZl_xZKWX"
      },
      "execution_count": 24,
      "outputs": []
    },
    {
      "cell_type": "code",
      "source": [
        "Y_pred_nb.shape\n"
      ],
      "metadata": {
        "colab": {
          "base_uri": "https://localhost:8080/"
        },
        "id": "Euvp80F3ZXu7",
        "outputId": "b74e19ad-4dde-410b-bd27-3e7c9d2c2855"
      },
      "execution_count": 25,
      "outputs": [
        {
          "output_type": "execute_result",
          "data": {
            "text/plain": [
              "(40,)"
            ]
          },
          "metadata": {},
          "execution_count": 25
        }
      ]
    },
    {
      "cell_type": "code",
      "source": [
        "\n",
        "score_nb = round(accuracy_score(Y_pred_nb,Y_test)*100,2)\n",
        "\n",
        "print(\"The accuracy score achieved using Naive Bayes is: \"+str(score_nb)+\" %\")"
      ],
      "metadata": {
        "colab": {
          "base_uri": "https://localhost:8080/"
        },
        "id": "m56DU1i3ZyYC",
        "outputId": "fe8ce3aa-4226-4d73-bc5f-d172cd396fae"
      },
      "execution_count": 26,
      "outputs": [
        {
          "output_type": "stream",
          "name": "stdout",
          "text": [
            "The accuracy score achieved using Naive Bayes is: 25.0 %\n"
          ]
        }
      ]
    },
    {
      "cell_type": "code",
      "source": [
        "from sklearn import svm\n",
        "\n",
        "sv = svm.SVC(kernel='linear')\n",
        "\n",
        "sv.fit(X_train, Y_train)\n",
        "\n",
        "Y_pred_svm = sv.predict(X_test)"
      ],
      "metadata": {
        "id": "_-xXpz6hZz9t"
      },
      "execution_count": 27,
      "outputs": []
    },
    {
      "cell_type": "code",
      "source": [
        "Y_pred_svm.shape\n"
      ],
      "metadata": {
        "colab": {
          "base_uri": "https://localhost:8080/"
        },
        "id": "kD8TB4WBZ1hE",
        "outputId": "6d4d6ed2-7829-4013-ead1-40aa8789a76a"
      },
      "execution_count": 28,
      "outputs": [
        {
          "output_type": "execute_result",
          "data": {
            "text/plain": [
              "(40,)"
            ]
          },
          "metadata": {},
          "execution_count": 28
        }
      ]
    },
    {
      "cell_type": "code",
      "source": [
        "score_svm = round(accuracy_score(Y_pred_svm,Y_test)*100,2)\n",
        "\n",
        "print(\"The accuracy score achieved using Linear SVM is: \"+str(score_svm)+\" %\")"
      ],
      "metadata": {
        "colab": {
          "base_uri": "https://localhost:8080/"
        },
        "id": "JiLBx8FaZ3Lb",
        "outputId": "d1098f1e-1615-445f-cf25-eebc2481ffc7"
      },
      "execution_count": 29,
      "outputs": [
        {
          "output_type": "stream",
          "name": "stdout",
          "text": [
            "The accuracy score achieved using Linear SVM is: 87.5 %\n"
          ]
        }
      ]
    },
    {
      "cell_type": "code",
      "source": [
        "score_svm = round(accuracy_score(Y_pred_svm,Y_test)*100,2)\n",
        "\n",
        "print(\"The accuracy score achieved using Linear SVM is: \"+str(score_svm)+\" %\")"
      ],
      "metadata": {
        "colab": {
          "base_uri": "https://localhost:8080/"
        },
        "id": "qBB4FwHyZ5Lb",
        "outputId": "0f3b3ce8-798b-4328-ac75-ae6fc0a4fda3"
      },
      "execution_count": 30,
      "outputs": [
        {
          "output_type": "stream",
          "name": "stdout",
          "text": [
            "The accuracy score achieved using Linear SVM is: 87.5 %\n"
          ]
        }
      ]
    },
    {
      "cell_type": "code",
      "source": [
        "i = 1\n",
        "n = 190\n",
        "while i <= n:\n",
        "  # x = [df.iloc[i, :14]]\n",
        "  prediction = sv.predict([dataset.iloc[i, :14]])\n",
        "  print('prediction',i,prediction)\n",
        "  i+=1;"
      ],
      "metadata": {
        "colab": {
          "base_uri": "https://localhost:8080/"
        },
        "id": "RMFggoVFkBCc",
        "outputId": "cf33acb6-7b59-496e-c07d-e7ca40898b2f"
      },
      "execution_count": 72,
      "outputs": [
        {
          "output_type": "stream",
          "name": "stdout",
          "text": [
            "prediction 1 [1]\n",
            "prediction 2 [1]\n",
            "prediction 3 [1]\n",
            "prediction 4 [1]\n",
            "prediction 5 [1]\n",
            "prediction 6 [1]\n",
            "prediction 7 [0]\n",
            "prediction 8 [1]\n",
            "prediction 9 [0]\n",
            "prediction 10 [1]\n",
            "prediction 11 [1]\n",
            "prediction 12 [0]\n",
            "prediction 13 [1]\n",
            "prediction 14 [1]\n",
            "prediction 15 [1]\n",
            "prediction 16 [1]\n",
            "prediction 17 [0]\n",
            "prediction 18 [1]\n",
            "prediction 19 [1]\n",
            "prediction 20 [1]\n",
            "prediction 21 [0]\n",
            "prediction 22 [0]\n",
            "prediction 23 [0]\n",
            "prediction 24 [0]\n",
            "prediction 25 [0]\n",
            "prediction 26 [0]\n",
            "prediction 27 [0]\n",
            "prediction 28 [0]\n",
            "prediction 29 [0]\n",
            "prediction 30 [0]\n",
            "prediction 31 [0]\n",
            "prediction 32 [0]\n",
            "prediction 33 [0]\n",
            "prediction 34 [0]\n",
            "prediction 35 [0]\n",
            "prediction 36 [0]\n",
            "prediction 37 [0]\n",
            "prediction 38 [0]\n",
            "prediction 39 [0]\n",
            "prediction 40 [0]\n",
            "prediction 41 [1]\n",
            "prediction 42 [0]\n",
            "prediction 43 [0]\n",
            "prediction 44 [0]\n",
            "prediction 45 [0]\n",
            "prediction 46 [0]\n",
            "prediction 47 [0]\n",
            "prediction 48 [1]\n",
            "prediction 49 [0]\n",
            "prediction 50 [0]\n",
            "prediction 51 [0]\n",
            "prediction 52 [0]\n",
            "prediction 53 [0]\n",
            "prediction 54 [0]\n",
            "prediction 55 [0]\n",
            "prediction 56 [0]\n",
            "prediction 57 [0]\n",
            "prediction 58 [0]\n",
            "prediction 59 [0]\n",
            "prediction 60 [0]\n",
            "prediction 61 [0]\n",
            "prediction 62 [0]\n",
            "prediction 63 [0]\n",
            "prediction 64 [0]\n",
            "prediction 65 [0]\n",
            "prediction 66 [0]\n",
            "prediction 67 [0]\n",
            "prediction 68 [0]\n",
            "prediction 69 [0]\n",
            "prediction 70 [0]\n",
            "prediction 71 [0]\n",
            "prediction 72 [0]\n",
            "prediction 73 [1]\n",
            "prediction 74 [0]\n",
            "prediction 75 [0]\n",
            "prediction 76 [0]\n",
            "prediction 77 [0]\n",
            "prediction 78 [0]\n",
            "prediction 79 [0]\n",
            "prediction 80 [1]\n",
            "prediction 81 [0]\n",
            "prediction 82 [0]\n",
            "prediction 83 [0]\n",
            "prediction 84 [0]\n",
            "prediction 85 [0]\n",
            "prediction 86 [0]\n",
            "prediction 87 [0]\n",
            "prediction 88 [0]\n",
            "prediction 89 [0]\n",
            "prediction 90 [1]\n",
            "prediction 91 [0]\n",
            "prediction 92 [0]\n",
            "prediction 93 [0]\n",
            "prediction 94 [0]\n",
            "prediction 95 [0]\n",
            "prediction 96 [0]\n",
            "prediction 97 [0]\n",
            "prediction 98 [0]\n",
            "prediction 99 [0]\n",
            "prediction 100 [0]\n",
            "prediction 101 [0]\n",
            "prediction 102 [0]\n",
            "prediction 103 [0]\n",
            "prediction 104 [0]\n",
            "prediction 105 [0]\n",
            "prediction 106 [0]\n",
            "prediction 107 [0]\n",
            "prediction 108 [0]\n",
            "prediction 109 [0]\n",
            "prediction 110 [0]\n",
            "prediction 111 [0]\n",
            "prediction 112 [0]\n",
            "prediction 113 [0]\n",
            "prediction 114 [0]\n",
            "prediction 115 [0]\n",
            "prediction 116 [0]\n",
            "prediction 117 [0]\n",
            "prediction 118 [0]\n",
            "prediction 119 [0]\n",
            "prediction 120 [0]\n",
            "prediction 121 [0]\n",
            "prediction 122 [0]\n",
            "prediction 123 [0]\n",
            "prediction 124 [0]\n",
            "prediction 125 [0]\n",
            "prediction 126 [0]\n",
            "prediction 127 [0]\n",
            "prediction 128 [1]\n",
            "prediction 129 [1]\n",
            "prediction 130 [0]\n",
            "prediction 131 [0]\n",
            "prediction 132 [0]\n",
            "prediction 133 [0]\n",
            "prediction 134 [0]\n",
            "prediction 135 [0]\n",
            "prediction 136 [0]\n",
            "prediction 137 [0]\n",
            "prediction 138 [0]\n",
            "prediction 139 [0]\n",
            "prediction 140 [0]\n",
            "prediction 141 [0]\n",
            "prediction 142 [0]\n",
            "prediction 143 [0]\n",
            "prediction 144 [0]\n",
            "prediction 145 [0]\n",
            "prediction 146 [0]\n",
            "prediction 147 [0]\n",
            "prediction 148 [0]\n",
            "prediction 149 [0]\n",
            "prediction 150 [0]\n",
            "prediction 151 [0]\n",
            "prediction 152 [0]\n",
            "prediction 153 [0]\n",
            "prediction 154 [0]\n",
            "prediction 155 [0]\n",
            "prediction 156 [0]\n",
            "prediction 157 [0]\n",
            "prediction 158 [0]\n",
            "prediction 159 [0]\n",
            "prediction 160 [0]\n",
            "prediction 161 [0]\n",
            "prediction 162 [0]\n",
            "prediction 163 [0]\n",
            "prediction 164 [0]\n",
            "prediction 165 [0]\n",
            "prediction 166 [0]\n",
            "prediction 167 [0]\n",
            "prediction 168 [0]\n",
            "prediction 169 [0]\n",
            "prediction 170 [0]\n",
            "prediction 171 [0]\n",
            "prediction 172 [0]\n",
            "prediction 173 [0]\n",
            "prediction 174 [0]\n",
            "prediction 175 [0]\n",
            "prediction 176 [0]\n",
            "prediction 177 [0]\n",
            "prediction 178 [0]\n",
            "prediction 179 [0]\n",
            "prediction 180 [0]\n",
            "prediction 181 [0]\n",
            "prediction 182 [0]\n",
            "prediction 183 [0]\n",
            "prediction 184 [0]\n",
            "prediction 185 [0]\n",
            "prediction 186 [0]\n",
            "prediction 187 [0]\n",
            "prediction 188 [0]\n",
            "prediction 189 [0]\n",
            "prediction 190 [0]\n"
          ]
        }
      ]
    },
    {
      "cell_type": "code",
      "source": [
        "from sklearn.neighbors import KNeighborsClassifier\n",
        "\n",
        "knn = KNeighborsClassifier(n_neighbors=7)\n",
        "knn.fit(X_train,Y_train)\n",
        "Y_pred_knn=knn.predict(X_test)\n",
        "\n"
      ],
      "metadata": {
        "id": "5XMqoOD6Z8jU"
      },
      "execution_count": 33,
      "outputs": []
    },
    {
      "cell_type": "code",
      "source": [
        "Y_pred_knn.shape\n"
      ],
      "metadata": {
        "colab": {
          "base_uri": "https://localhost:8080/"
        },
        "id": "JFANkpqCZ-Fi",
        "outputId": "71ba6255-be87-42a1-9649-794536debe00"
      },
      "execution_count": 34,
      "outputs": [
        {
          "output_type": "execute_result",
          "data": {
            "text/plain": [
              "(40,)"
            ]
          },
          "metadata": {},
          "execution_count": 34
        }
      ]
    },
    {
      "cell_type": "code",
      "source": [
        "\n",
        "score_knn = round(accuracy_score(Y_pred_knn,Y_test)*100,2)\n",
        "\n",
        "print(\"The accuracy score achieved using KNN is: \"+str(score_knn)+\" %\")"
      ],
      "metadata": {
        "colab": {
          "base_uri": "https://localhost:8080/"
        },
        "id": "Uef8Mf-9aGt8",
        "outputId": "756c5cb1-e2e2-485c-8217-cd3cb42105ee"
      },
      "execution_count": 35,
      "outputs": [
        {
          "output_type": "stream",
          "name": "stdout",
          "text": [
            "The accuracy score achieved using KNN is: 80.0 %\n"
          ]
        }
      ]
    },
    {
      "cell_type": "code",
      "source": [
        "from sklearn.tree import DecisionTreeClassifier\n",
        "\n",
        "max_accuracy = 0\n",
        "\n",
        "\n",
        "for x in range(200):\n",
        "    dt = DecisionTreeClassifier(random_state=x)\n",
        "    dt.fit(X_train,Y_train)\n",
        "    Y_pred_dt = dt.predict(X_test)\n",
        "    current_accuracy = round(accuracy_score(Y_pred_dt,Y_test)*100,2)\n",
        "    if(current_accuracy>max_accuracy):\n",
        "        max_accuracy = current_accuracy\n",
        "        best_x = x\n",
        "        \n",
        "#print(max_accuracy)\n",
        "#print(best_x)\n",
        "\n",
        "\n",
        "dt = DecisionTreeClassifier(random_state=best_x)\n",
        "dt.fit(X_train,Y_train)\n",
        "Y_pred_dt = dt.predict(X_test)\n"
      ],
      "metadata": {
        "id": "e_KFmOCpaJdT"
      },
      "execution_count": 36,
      "outputs": []
    },
    {
      "cell_type": "code",
      "source": [
        "print(Y_pred_dt.shape)\n"
      ],
      "metadata": {
        "colab": {
          "base_uri": "https://localhost:8080/"
        },
        "id": "bwN_9s9-aLaD",
        "outputId": "0cc3f0ec-00e5-4f35-fa04-69e6c65427bd"
      },
      "execution_count": 37,
      "outputs": [
        {
          "output_type": "stream",
          "name": "stdout",
          "text": [
            "(40,)\n"
          ]
        }
      ]
    },
    {
      "cell_type": "code",
      "source": [
        "i = 1\n",
        "n = 190\n",
        "while i <= n:\n",
        "  # x = [df.iloc[i, :14]]\n",
        "  prediction = dt.predict([dataset.iloc[i, :14]])\n",
        "  print('prediction',i,prediction)\n",
        "  i+=1;"
      ],
      "metadata": {
        "colab": {
          "base_uri": "https://localhost:8080/"
        },
        "id": "GxDzaFX_jweC",
        "outputId": "70374c5c-52c9-4d3a-fa5b-928d8cd1cd69"
      },
      "execution_count": 71,
      "outputs": [
        {
          "output_type": "stream",
          "name": "stdout",
          "text": [
            "prediction 1 [1]\n",
            "prediction 2 [1]\n",
            "prediction 3 [1]\n",
            "prediction 4 [0]\n",
            "prediction 5 [1]\n",
            "prediction 6 [1]\n",
            "prediction 7 [0]\n",
            "prediction 8 [1]\n",
            "prediction 9 [0]\n",
            "prediction 10 [1]\n",
            "prediction 11 [1]\n",
            "prediction 12 [0]\n",
            "prediction 13 [1]\n",
            "prediction 14 [1]\n",
            "prediction 15 [1]\n",
            "prediction 16 [1]\n",
            "prediction 17 [0]\n",
            "prediction 18 [0]\n",
            "prediction 19 [1]\n",
            "prediction 20 [1]\n",
            "prediction 21 [0]\n",
            "prediction 22 [0]\n",
            "prediction 23 [0]\n",
            "prediction 24 [0]\n",
            "prediction 25 [0]\n",
            "prediction 26 [0]\n",
            "prediction 27 [0]\n",
            "prediction 28 [1]\n",
            "prediction 29 [0]\n",
            "prediction 30 [0]\n",
            "prediction 31 [1]\n",
            "prediction 32 [0]\n",
            "prediction 33 [0]\n",
            "prediction 34 [0]\n",
            "prediction 35 [0]\n",
            "prediction 36 [1]\n",
            "prediction 37 [0]\n",
            "prediction 38 [0]\n",
            "prediction 39 [0]\n",
            "prediction 40 [1]\n",
            "prediction 41 [1]\n",
            "prediction 42 [0]\n",
            "prediction 43 [1]\n",
            "prediction 44 [0]\n",
            "prediction 45 [0]\n",
            "prediction 46 [0]\n",
            "prediction 47 [1]\n",
            "prediction 48 [1]\n",
            "prediction 49 [1]\n",
            "prediction 50 [0]\n",
            "prediction 51 [1]\n",
            "prediction 52 [1]\n",
            "prediction 53 [0]\n",
            "prediction 54 [0]\n",
            "prediction 55 [0]\n",
            "prediction 56 [1]\n",
            "prediction 57 [0]\n",
            "prediction 58 [0]\n",
            "prediction 59 [0]\n",
            "prediction 60 [0]\n",
            "prediction 61 [0]\n",
            "prediction 62 [0]\n",
            "prediction 63 [0]\n",
            "prediction 64 [0]\n",
            "prediction 65 [0]\n",
            "prediction 66 [0]\n",
            "prediction 67 [0]\n",
            "prediction 68 [0]\n",
            "prediction 69 [0]\n",
            "prediction 70 [0]\n",
            "prediction 71 [0]\n",
            "prediction 72 [0]\n",
            "prediction 73 [0]\n",
            "prediction 74 [0]\n",
            "prediction 75 [0]\n",
            "prediction 76 [1]\n",
            "prediction 77 [0]\n",
            "prediction 78 [0]\n",
            "prediction 79 [0]\n",
            "prediction 80 [0]\n",
            "prediction 81 [0]\n",
            "prediction 82 [0]\n",
            "prediction 83 [0]\n",
            "prediction 84 [1]\n",
            "prediction 85 [0]\n",
            "prediction 86 [0]\n",
            "prediction 87 [0]\n",
            "prediction 88 [0]\n",
            "prediction 89 [0]\n",
            "prediction 90 [0]\n",
            "prediction 91 [1]\n",
            "prediction 92 [1]\n",
            "prediction 93 [0]\n",
            "prediction 94 [0]\n",
            "prediction 95 [0]\n",
            "prediction 96 [0]\n",
            "prediction 97 [0]\n",
            "prediction 98 [0]\n",
            "prediction 99 [0]\n",
            "prediction 100 [0]\n",
            "prediction 101 [0]\n",
            "prediction 102 [0]\n",
            "prediction 103 [0]\n",
            "prediction 104 [0]\n",
            "prediction 105 [0]\n",
            "prediction 106 [0]\n",
            "prediction 107 [0]\n",
            "prediction 108 [0]\n",
            "prediction 109 [0]\n",
            "prediction 110 [0]\n",
            "prediction 111 [0]\n",
            "prediction 112 [0]\n",
            "prediction 113 [0]\n",
            "prediction 114 [0]\n",
            "prediction 115 [0]\n",
            "prediction 116 [0]\n",
            "prediction 117 [0]\n",
            "prediction 118 [0]\n",
            "prediction 119 [0]\n",
            "prediction 120 [0]\n",
            "prediction 121 [0]\n",
            "prediction 122 [0]\n",
            "prediction 123 [0]\n",
            "prediction 124 [0]\n",
            "prediction 125 [0]\n",
            "prediction 126 [0]\n",
            "prediction 127 [0]\n",
            "prediction 128 [0]\n",
            "prediction 129 [0]\n",
            "prediction 130 [0]\n",
            "prediction 131 [1]\n",
            "prediction 132 [0]\n",
            "prediction 133 [0]\n",
            "prediction 134 [0]\n",
            "prediction 135 [0]\n",
            "prediction 136 [0]\n",
            "prediction 137 [0]\n",
            "prediction 138 [0]\n",
            "prediction 139 [0]\n",
            "prediction 140 [0]\n",
            "prediction 141 [0]\n",
            "prediction 142 [0]\n",
            "prediction 143 [0]\n",
            "prediction 144 [0]\n",
            "prediction 145 [0]\n",
            "prediction 146 [0]\n",
            "prediction 147 [0]\n",
            "prediction 148 [0]\n",
            "prediction 149 [0]\n",
            "prediction 150 [0]\n",
            "prediction 151 [0]\n",
            "prediction 152 [0]\n",
            "prediction 153 [0]\n",
            "prediction 154 [0]\n",
            "prediction 155 [0]\n",
            "prediction 156 [1]\n",
            "prediction 157 [0]\n",
            "prediction 158 [0]\n",
            "prediction 159 [0]\n",
            "prediction 160 [0]\n",
            "prediction 161 [0]\n",
            "prediction 162 [0]\n",
            "prediction 163 [0]\n",
            "prediction 164 [1]\n",
            "prediction 165 [0]\n",
            "prediction 166 [0]\n",
            "prediction 167 [0]\n",
            "prediction 168 [0]\n",
            "prediction 169 [0]\n",
            "prediction 170 [0]\n",
            "prediction 171 [0]\n",
            "prediction 172 [0]\n",
            "prediction 173 [0]\n",
            "prediction 174 [0]\n",
            "prediction 175 [0]\n",
            "prediction 176 [0]\n",
            "prediction 177 [0]\n",
            "prediction 178 [0]\n",
            "prediction 179 [0]\n",
            "prediction 180 [0]\n",
            "prediction 181 [0]\n",
            "prediction 182 [0]\n",
            "prediction 183 [0]\n",
            "prediction 184 [0]\n",
            "prediction 185 [0]\n",
            "prediction 186 [1]\n",
            "prediction 187 [0]\n",
            "prediction 188 [0]\n",
            "prediction 189 [0]\n",
            "prediction 190 [0]\n"
          ]
        }
      ]
    },
    {
      "cell_type": "code",
      "source": [
        "# Assume that X_test is a 2D array with shape (1, n_features)\n",
        "# and Y_test is a 1D array with shape (1,)\n",
        "\n",
        "# Make a prediction on the test case using the decision tree model\n",
        "prediction = dt.predict([dataset.iloc[i, :14]])\n",
        "\n",
        "# Compare the prediction to the true label\n",
        "print(\"Prediction:\", prediction)\n",
        "\n"
      ],
      "metadata": {
        "colab": {
          "base_uri": "https://localhost:8080/",
          "height": 519
        },
        "id": "c-_ncViXgxFq",
        "outputId": "598b8082-0b95-4859-fe72-3e580a77425f"
      },
      "execution_count": 69,
      "outputs": [
        {
          "output_type": "stream",
          "name": "stdout",
          "text": [
            "Prediction: [1]\n"
          ]
        },
        {
          "output_type": "error",
          "ename": "KeyError",
          "evalue": "ignored",
          "traceback": [
            "\u001b[0;31m---------------------------------------------------------------------------\u001b[0m",
            "\u001b[0;31mKeyError\u001b[0m                                  Traceback (most recent call last)",
            "\u001b[0;32m/usr/local/lib/python3.8/dist-packages/pandas/core/indexes/base.py\u001b[0m in \u001b[0;36mget_loc\u001b[0;34m(self, key, method, tolerance)\u001b[0m\n\u001b[1;32m   3360\u001b[0m             \u001b[0;32mtry\u001b[0m\u001b[0;34m:\u001b[0m\u001b[0;34m\u001b[0m\u001b[0;34m\u001b[0m\u001b[0m\n\u001b[0;32m-> 3361\u001b[0;31m                 \u001b[0;32mreturn\u001b[0m \u001b[0mself\u001b[0m\u001b[0;34m.\u001b[0m\u001b[0m_engine\u001b[0m\u001b[0;34m.\u001b[0m\u001b[0mget_loc\u001b[0m\u001b[0;34m(\u001b[0m\u001b[0mcasted_key\u001b[0m\u001b[0;34m)\u001b[0m\u001b[0;34m\u001b[0m\u001b[0;34m\u001b[0m\u001b[0m\n\u001b[0m\u001b[1;32m   3362\u001b[0m             \u001b[0;32mexcept\u001b[0m \u001b[0mKeyError\u001b[0m \u001b[0;32mas\u001b[0m \u001b[0merr\u001b[0m\u001b[0;34m:\u001b[0m\u001b[0;34m\u001b[0m\u001b[0;34m\u001b[0m\u001b[0m\n",
            "\u001b[0;32m/usr/local/lib/python3.8/dist-packages/pandas/_libs/index.pyx\u001b[0m in \u001b[0;36mpandas._libs.index.IndexEngine.get_loc\u001b[0;34m()\u001b[0m\n",
            "\u001b[0;32m/usr/local/lib/python3.8/dist-packages/pandas/_libs/index.pyx\u001b[0m in \u001b[0;36mpandas._libs.index.IndexEngine.get_loc\u001b[0;34m()\u001b[0m\n",
            "\u001b[0;32mpandas/_libs/hashtable_class_helper.pxi\u001b[0m in \u001b[0;36mpandas._libs.hashtable.Int64HashTable.get_item\u001b[0;34m()\u001b[0m\n",
            "\u001b[0;32mpandas/_libs/hashtable_class_helper.pxi\u001b[0m in \u001b[0;36mpandas._libs.hashtable.Int64HashTable.get_item\u001b[0;34m()\u001b[0m\n",
            "\u001b[0;31mKeyError\u001b[0m: 0",
            "\nThe above exception was the direct cause of the following exception:\n",
            "\u001b[0;31mKeyError\u001b[0m                                  Traceback (most recent call last)",
            "\u001b[0;32m<ipython-input-69-4f6e7dbd1e18>\u001b[0m in \u001b[0;36m<module>\u001b[0;34m\u001b[0m\n\u001b[1;32m      7\u001b[0m \u001b[0;31m# Compare the prediction to the true label\u001b[0m\u001b[0;34m\u001b[0m\u001b[0;34m\u001b[0m\u001b[0;34m\u001b[0m\u001b[0m\n\u001b[1;32m      8\u001b[0m \u001b[0mprint\u001b[0m\u001b[0;34m(\u001b[0m\u001b[0;34m\"Prediction:\"\u001b[0m\u001b[0;34m,\u001b[0m \u001b[0mprediction\u001b[0m\u001b[0;34m)\u001b[0m\u001b[0;34m\u001b[0m\u001b[0;34m\u001b[0m\u001b[0m\n\u001b[0;32m----> 9\u001b[0;31m \u001b[0mprint\u001b[0m\u001b[0;34m(\u001b[0m\u001b[0;34m\"True label:\"\u001b[0m\u001b[0;34m,\u001b[0m \u001b[0mY_test\u001b[0m\u001b[0;34m[\u001b[0m\u001b[0;36m0\u001b[0m\u001b[0;34m]\u001b[0m\u001b[0;34m)\u001b[0m\u001b[0;34m\u001b[0m\u001b[0;34m\u001b[0m\u001b[0m\n\u001b[0m",
            "\u001b[0;32m/usr/local/lib/python3.8/dist-packages/pandas/core/series.py\u001b[0m in \u001b[0;36m__getitem__\u001b[0;34m(self, key)\u001b[0m\n\u001b[1;32m    940\u001b[0m \u001b[0;34m\u001b[0m\u001b[0m\n\u001b[1;32m    941\u001b[0m         \u001b[0;32melif\u001b[0m \u001b[0mkey_is_scalar\u001b[0m\u001b[0;34m:\u001b[0m\u001b[0;34m\u001b[0m\u001b[0;34m\u001b[0m\u001b[0m\n\u001b[0;32m--> 942\u001b[0;31m             \u001b[0;32mreturn\u001b[0m \u001b[0mself\u001b[0m\u001b[0;34m.\u001b[0m\u001b[0m_get_value\u001b[0m\u001b[0;34m(\u001b[0m\u001b[0mkey\u001b[0m\u001b[0;34m)\u001b[0m\u001b[0;34m\u001b[0m\u001b[0;34m\u001b[0m\u001b[0m\n\u001b[0m\u001b[1;32m    943\u001b[0m \u001b[0;34m\u001b[0m\u001b[0m\n\u001b[1;32m    944\u001b[0m         \u001b[0;32mif\u001b[0m \u001b[0mis_hashable\u001b[0m\u001b[0;34m(\u001b[0m\u001b[0mkey\u001b[0m\u001b[0;34m)\u001b[0m\u001b[0;34m:\u001b[0m\u001b[0;34m\u001b[0m\u001b[0;34m\u001b[0m\u001b[0m\n",
            "\u001b[0;32m/usr/local/lib/python3.8/dist-packages/pandas/core/series.py\u001b[0m in \u001b[0;36m_get_value\u001b[0;34m(self, label, takeable)\u001b[0m\n\u001b[1;32m   1049\u001b[0m \u001b[0;34m\u001b[0m\u001b[0m\n\u001b[1;32m   1050\u001b[0m         \u001b[0;31m# Similar to Index.get_value, but we do not fall back to positional\u001b[0m\u001b[0;34m\u001b[0m\u001b[0;34m\u001b[0m\u001b[0;34m\u001b[0m\u001b[0m\n\u001b[0;32m-> 1051\u001b[0;31m         \u001b[0mloc\u001b[0m \u001b[0;34m=\u001b[0m \u001b[0mself\u001b[0m\u001b[0;34m.\u001b[0m\u001b[0mindex\u001b[0m\u001b[0;34m.\u001b[0m\u001b[0mget_loc\u001b[0m\u001b[0;34m(\u001b[0m\u001b[0mlabel\u001b[0m\u001b[0;34m)\u001b[0m\u001b[0;34m\u001b[0m\u001b[0;34m\u001b[0m\u001b[0m\n\u001b[0m\u001b[1;32m   1052\u001b[0m         \u001b[0;32mreturn\u001b[0m \u001b[0mself\u001b[0m\u001b[0;34m.\u001b[0m\u001b[0mindex\u001b[0m\u001b[0;34m.\u001b[0m\u001b[0m_get_values_for_loc\u001b[0m\u001b[0;34m(\u001b[0m\u001b[0mself\u001b[0m\u001b[0;34m,\u001b[0m \u001b[0mloc\u001b[0m\u001b[0;34m,\u001b[0m \u001b[0mlabel\u001b[0m\u001b[0;34m)\u001b[0m\u001b[0;34m\u001b[0m\u001b[0;34m\u001b[0m\u001b[0m\n\u001b[1;32m   1053\u001b[0m \u001b[0;34m\u001b[0m\u001b[0m\n",
            "\u001b[0;32m/usr/local/lib/python3.8/dist-packages/pandas/core/indexes/base.py\u001b[0m in \u001b[0;36mget_loc\u001b[0;34m(self, key, method, tolerance)\u001b[0m\n\u001b[1;32m   3361\u001b[0m                 \u001b[0;32mreturn\u001b[0m \u001b[0mself\u001b[0m\u001b[0;34m.\u001b[0m\u001b[0m_engine\u001b[0m\u001b[0;34m.\u001b[0m\u001b[0mget_loc\u001b[0m\u001b[0;34m(\u001b[0m\u001b[0mcasted_key\u001b[0m\u001b[0;34m)\u001b[0m\u001b[0;34m\u001b[0m\u001b[0;34m\u001b[0m\u001b[0m\n\u001b[1;32m   3362\u001b[0m             \u001b[0;32mexcept\u001b[0m \u001b[0mKeyError\u001b[0m \u001b[0;32mas\u001b[0m \u001b[0merr\u001b[0m\u001b[0;34m:\u001b[0m\u001b[0;34m\u001b[0m\u001b[0;34m\u001b[0m\u001b[0m\n\u001b[0;32m-> 3363\u001b[0;31m                 \u001b[0;32mraise\u001b[0m \u001b[0mKeyError\u001b[0m\u001b[0;34m(\u001b[0m\u001b[0mkey\u001b[0m\u001b[0;34m)\u001b[0m \u001b[0;32mfrom\u001b[0m \u001b[0merr\u001b[0m\u001b[0;34m\u001b[0m\u001b[0;34m\u001b[0m\u001b[0m\n\u001b[0m\u001b[1;32m   3364\u001b[0m \u001b[0;34m\u001b[0m\u001b[0m\n\u001b[1;32m   3365\u001b[0m         \u001b[0;32mif\u001b[0m \u001b[0mis_scalar\u001b[0m\u001b[0;34m(\u001b[0m\u001b[0mkey\u001b[0m\u001b[0;34m)\u001b[0m \u001b[0;32mand\u001b[0m \u001b[0misna\u001b[0m\u001b[0;34m(\u001b[0m\u001b[0mkey\u001b[0m\u001b[0;34m)\u001b[0m \u001b[0;32mand\u001b[0m \u001b[0;32mnot\u001b[0m \u001b[0mself\u001b[0m\u001b[0;34m.\u001b[0m\u001b[0mhasnans\u001b[0m\u001b[0;34m:\u001b[0m\u001b[0;34m\u001b[0m\u001b[0;34m\u001b[0m\u001b[0m\n",
            "\u001b[0;31mKeyError\u001b[0m: 0"
          ]
        }
      ]
    },
    {
      "cell_type": "code",
      "source": [
        "score_dt = round(accuracy_score(Y_pred_dt,Y_test)*100,2)\n",
        "\n",
        "print(\"The accuracy score achieved using Decision Tree is: \"+str(score_dt)+\" %\")\n"
      ],
      "metadata": {
        "colab": {
          "base_uri": "https://localhost:8080/"
        },
        "id": "BJNTIA2daMyp",
        "outputId": "997494d2-4fe7-4f18-f498-b483a2959021"
      },
      "execution_count": 38,
      "outputs": [
        {
          "output_type": "stream",
          "name": "stdout",
          "text": [
            "The accuracy score achieved using Decision Tree is: 75.0 %\n"
          ]
        }
      ]
    },
    {
      "cell_type": "code",
      "source": [
        "from sklearn.ensemble import RandomForestClassifier\n",
        "\n",
        "max_accuracy = 0\n",
        "\n",
        "\n",
        "for x in range(2000):\n",
        "    rf = RandomForestClassifier(random_state=x)\n",
        "    rf.fit(X_train,Y_train)\n",
        "    Y_pred_rf = rf.predict(X_test)\n",
        "    current_accuracy = round(accuracy_score(Y_pred_rf,Y_test)*100,2)\n",
        "    if(current_accuracy>max_accuracy):\n",
        "        max_accuracy = current_accuracy\n",
        "        best_x = x\n",
        "        \n",
        "#print(max_accuracy)\n",
        "#print(best_x)\n",
        "\n",
        "rf = RandomForestClassifier(random_state=best_x)\n",
        "rf.fit(X_train,Y_train)\n",
        "Y_pred_rf = rf.predict(X_test)\n"
      ],
      "metadata": {
        "id": "frccMg5aaPiT"
      },
      "execution_count": 40,
      "outputs": []
    },
    {
      "cell_type": "code",
      "source": [
        "\n",
        "Y_pred_rf.shape\n"
      ],
      "metadata": {
        "colab": {
          "base_uri": "https://localhost:8080/"
        },
        "id": "ipWL_7kyaUDL",
        "outputId": "5d370ca6-e3f1-4131-b592-eed328ed8c46"
      },
      "execution_count": 41,
      "outputs": [
        {
          "output_type": "execute_result",
          "data": {
            "text/plain": [
              "(40,)"
            ]
          },
          "metadata": {},
          "execution_count": 41
        }
      ]
    },
    {
      "cell_type": "code",
      "source": [
        "score_rf = round(accuracy_score(Y_pred_rf,Y_test)*100,2)\n",
        "\n",
        "print(\"The accuracy score achieved using Decision Tree is: \"+str(score_rf)+\" %\")"
      ],
      "metadata": {
        "colab": {
          "base_uri": "https://localhost:8080/"
        },
        "id": "9ffi1cCXaWP0",
        "outputId": "3ceab813-d796-49fa-901a-92a256701330"
      },
      "execution_count": 42,
      "outputs": [
        {
          "output_type": "stream",
          "name": "stdout",
          "text": [
            "The accuracy score achieved using Decision Tree is: 82.5 %\n"
          ]
        }
      ]
    },
    {
      "cell_type": "code",
      "source": [
        "import xgboost as xgb\n",
        "\n",
        "xgb_model = xgb.XGBClassifier(objective=\"binary:logistic\", random_state=42)\n",
        "xgb_model.fit(X_train, Y_train)\n",
        "\n",
        "Y_pred_xgb = xgb_model.predict(X_test)\n"
      ],
      "metadata": {
        "id": "gyB3RC7oci62"
      },
      "execution_count": 43,
      "outputs": []
    },
    {
      "cell_type": "code",
      "source": [
        "\n",
        "Y_pred_xgb.shape"
      ],
      "metadata": {
        "colab": {
          "base_uri": "https://localhost:8080/"
        },
        "id": "8_JvgWNVc3zx",
        "outputId": "071f99a6-a2ce-4fa7-f1b7-b64255c24583"
      },
      "execution_count": 44,
      "outputs": [
        {
          "output_type": "execute_result",
          "data": {
            "text/plain": [
              "(40,)"
            ]
          },
          "metadata": {},
          "execution_count": 44
        }
      ]
    },
    {
      "cell_type": "code",
      "source": [
        "score_xgb = round(accuracy_score(Y_pred_xgb,Y_test)*100,2)\n",
        "\n",
        "print(\"The accuracy score achieved using XGBoost is: \"+str(score_xgb)+\" %\")"
      ],
      "metadata": {
        "colab": {
          "base_uri": "https://localhost:8080/"
        },
        "id": "MxRzaeX1c51j",
        "outputId": "ffa3e85c-3750-4745-e08a-da0b9e88fc43"
      },
      "execution_count": 45,
      "outputs": [
        {
          "output_type": "stream",
          "name": "stdout",
          "text": [
            "The accuracy score achieved using XGBoost is: 80.0 %\n"
          ]
        }
      ]
    },
    {
      "cell_type": "code",
      "source": [
        "from keras.models import Sequential\n",
        "from keras.layers import Dense"
      ],
      "metadata": {
        "id": "iCNwXzjrc89U"
      },
      "execution_count": 46,
      "outputs": []
    },
    {
      "cell_type": "code",
      "source": [
        "# https://stats.stackexchange.com/a/136542 helped a lot in avoiding overfitting\n",
        "\n",
        "model = Sequential()\n",
        "model.add(Dense(11,activation='relu',input_dim=13))\n",
        "model.add(Dense(1,activation='sigmoid'))\n",
        "\n",
        "model.compile(loss='binary_crossentropy',optimizer='adam',metrics=['accuracy'])"
      ],
      "metadata": {
        "id": "mlAMMhMddAPb"
      },
      "execution_count": 47,
      "outputs": []
    },
    {
      "cell_type": "code",
      "source": [
        "# Remove the first feature from the input data\n",
        "# Remove the first feature from the input data\n",
        "X_train = X_train[: 1:]\n"
      ],
      "metadata": {
        "id": "-WL5m_1sfCOR"
      },
      "execution_count": 61,
      "outputs": []
    },
    {
      "cell_type": "code",
      "source": [
        "# Get the number of samples in X_train and Y_train\n",
        "n_samples_x = X_train.shape[0]\n",
        "n_samples_y = Y_train.shape[0]\n",
        "\n",
        "# Make sure X_train and Y_train have the same number of samples\n",
        "if n_samples_x != n_samples_y:\n",
        "  if n_samples_x < n_samples_y:\n",
        "    Y_train = Y_train[:n_samples_x]\n",
        "  else:\n",
        "    X_train = X_train[:n_samples_y]\n",
        "\n",
        "# Make sure the model is compatible with the shapes of X_train and Y_train\n",
        "input_shape = X_train.shape\n",
        "n_classes = len(np.unique(Y_train))\n",
        "\n",
        "model = Sequential()\n",
        "model.add(Dense(64, input_shape=input_shape[1:]))\n",
        "model.add(Activation('relu'))\n",
        "model.add(Dense(n_classes))\n",
        "model.add(Activation('softmax'))\n",
        "\n",
        "# Fit the model using\n"
      ],
      "metadata": {
        "colab": {
          "base_uri": "https://localhost:8080/",
          "height": 235
        },
        "id": "rSJLZ2mCgE14",
        "outputId": "92dd2717-31cb-4aff-ad40-74560f966b1d"
      },
      "execution_count": 64,
      "outputs": [
        {
          "output_type": "error",
          "ename": "NameError",
          "evalue": "ignored",
          "traceback": [
            "\u001b[0;31m---------------------------------------------------------------------------\u001b[0m",
            "\u001b[0;31mNameError\u001b[0m                                 Traceback (most recent call last)",
            "\u001b[0;32m<ipython-input-64-05dc92f8cf66>\u001b[0m in \u001b[0;36m<module>\u001b[0;34m\u001b[0m\n\u001b[1;32m     16\u001b[0m \u001b[0mmodel\u001b[0m \u001b[0;34m=\u001b[0m \u001b[0mSequential\u001b[0m\u001b[0;34m(\u001b[0m\u001b[0;34m)\u001b[0m\u001b[0;34m\u001b[0m\u001b[0;34m\u001b[0m\u001b[0m\n\u001b[1;32m     17\u001b[0m \u001b[0mmodel\u001b[0m\u001b[0;34m.\u001b[0m\u001b[0madd\u001b[0m\u001b[0;34m(\u001b[0m\u001b[0mDense\u001b[0m\u001b[0;34m(\u001b[0m\u001b[0;36m64\u001b[0m\u001b[0;34m,\u001b[0m \u001b[0minput_shape\u001b[0m\u001b[0;34m=\u001b[0m\u001b[0minput_shape\u001b[0m\u001b[0;34m[\u001b[0m\u001b[0;36m1\u001b[0m\u001b[0;34m:\u001b[0m\u001b[0;34m]\u001b[0m\u001b[0;34m)\u001b[0m\u001b[0;34m)\u001b[0m\u001b[0;34m\u001b[0m\u001b[0;34m\u001b[0m\u001b[0m\n\u001b[0;32m---> 18\u001b[0;31m \u001b[0mmodel\u001b[0m\u001b[0;34m.\u001b[0m\u001b[0madd\u001b[0m\u001b[0;34m(\u001b[0m\u001b[0mActivation\u001b[0m\u001b[0;34m(\u001b[0m\u001b[0;34m'relu'\u001b[0m\u001b[0;34m)\u001b[0m\u001b[0;34m)\u001b[0m\u001b[0;34m\u001b[0m\u001b[0;34m\u001b[0m\u001b[0m\n\u001b[0m\u001b[1;32m     19\u001b[0m \u001b[0mmodel\u001b[0m\u001b[0;34m.\u001b[0m\u001b[0madd\u001b[0m\u001b[0;34m(\u001b[0m\u001b[0mDense\u001b[0m\u001b[0;34m(\u001b[0m\u001b[0mn_classes\u001b[0m\u001b[0;34m)\u001b[0m\u001b[0;34m)\u001b[0m\u001b[0;34m\u001b[0m\u001b[0;34m\u001b[0m\u001b[0m\n\u001b[1;32m     20\u001b[0m \u001b[0mmodel\u001b[0m\u001b[0;34m.\u001b[0m\u001b[0madd\u001b[0m\u001b[0;34m(\u001b[0m\u001b[0mActivation\u001b[0m\u001b[0;34m(\u001b[0m\u001b[0;34m'softmax'\u001b[0m\u001b[0;34m)\u001b[0m\u001b[0;34m)\u001b[0m\u001b[0;34m\u001b[0m\u001b[0;34m\u001b[0m\u001b[0m\n",
            "\u001b[0;31mNameError\u001b[0m: name 'Activation' is not defined"
          ]
        }
      ]
    },
    {
      "cell_type": "code",
      "source": [
        "\n",
        "\n",
        "model.fit(X_train,Y_train,epochs=157)"
      ],
      "metadata": {
        "colab": {
          "base_uri": "https://localhost:8080/",
          "height": 311
        },
        "id": "U1G2e6JedE6A",
        "outputId": "e3ba578d-5631-4e0a-9d88-6ad6598884f2"
      },
      "execution_count": 65,
      "outputs": [
        {
          "output_type": "error",
          "ename": "RuntimeError",
          "evalue": "ignored",
          "traceback": [
            "\u001b[0;31m---------------------------------------------------------------------------\u001b[0m",
            "\u001b[0;31mRuntimeError\u001b[0m                              Traceback (most recent call last)",
            "\u001b[0;32m<ipython-input-65-52fde7fc9308>\u001b[0m in \u001b[0;36m<module>\u001b[0;34m\u001b[0m\n\u001b[0;32m----> 1\u001b[0;31m \u001b[0mmodel\u001b[0m\u001b[0;34m.\u001b[0m\u001b[0mfit\u001b[0m\u001b[0;34m(\u001b[0m\u001b[0mX_train\u001b[0m\u001b[0;34m,\u001b[0m\u001b[0mY_train\u001b[0m\u001b[0;34m,\u001b[0m\u001b[0mepochs\u001b[0m\u001b[0;34m=\u001b[0m\u001b[0;36m157\u001b[0m\u001b[0;34m)\u001b[0m\u001b[0;34m\u001b[0m\u001b[0;34m\u001b[0m\u001b[0m\n\u001b[0m",
            "\u001b[0;32m/usr/local/lib/python3.8/dist-packages/keras/utils/traceback_utils.py\u001b[0m in \u001b[0;36merror_handler\u001b[0;34m(*args, **kwargs)\u001b[0m\n\u001b[1;32m     65\u001b[0m     \u001b[0;32mexcept\u001b[0m \u001b[0mException\u001b[0m \u001b[0;32mas\u001b[0m \u001b[0me\u001b[0m\u001b[0;34m:\u001b[0m  \u001b[0;31m# pylint: disable=broad-except\u001b[0m\u001b[0;34m\u001b[0m\u001b[0;34m\u001b[0m\u001b[0m\n\u001b[1;32m     66\u001b[0m       \u001b[0mfiltered_tb\u001b[0m \u001b[0;34m=\u001b[0m \u001b[0m_process_traceback_frames\u001b[0m\u001b[0;34m(\u001b[0m\u001b[0me\u001b[0m\u001b[0;34m.\u001b[0m\u001b[0m__traceback__\u001b[0m\u001b[0;34m)\u001b[0m\u001b[0;34m\u001b[0m\u001b[0;34m\u001b[0m\u001b[0m\n\u001b[0;32m---> 67\u001b[0;31m       \u001b[0;32mraise\u001b[0m \u001b[0me\u001b[0m\u001b[0;34m.\u001b[0m\u001b[0mwith_traceback\u001b[0m\u001b[0;34m(\u001b[0m\u001b[0mfiltered_tb\u001b[0m\u001b[0;34m)\u001b[0m \u001b[0;32mfrom\u001b[0m \u001b[0;32mNone\u001b[0m\u001b[0;34m\u001b[0m\u001b[0;34m\u001b[0m\u001b[0m\n\u001b[0m\u001b[1;32m     68\u001b[0m     \u001b[0;32mfinally\u001b[0m\u001b[0;34m:\u001b[0m\u001b[0;34m\u001b[0m\u001b[0;34m\u001b[0m\u001b[0m\n\u001b[1;32m     69\u001b[0m       \u001b[0;32mdel\u001b[0m \u001b[0mfiltered_tb\u001b[0m\u001b[0;34m\u001b[0m\u001b[0;34m\u001b[0m\u001b[0m\n",
            "\u001b[0;32m/usr/local/lib/python3.8/dist-packages/keras/engine/training.py\u001b[0m in \u001b[0;36m_assert_compile_was_called\u001b[0;34m(self)\u001b[0m\n\u001b[1;32m   3158\u001b[0m     \u001b[0;31m# (i.e. whether the model is built and its inputs/outputs are set).\u001b[0m\u001b[0;34m\u001b[0m\u001b[0;34m\u001b[0m\u001b[0;34m\u001b[0m\u001b[0m\n\u001b[1;32m   3159\u001b[0m     \u001b[0;32mif\u001b[0m \u001b[0;32mnot\u001b[0m \u001b[0mself\u001b[0m\u001b[0;34m.\u001b[0m\u001b[0m_is_compiled\u001b[0m\u001b[0;34m:\u001b[0m\u001b[0;34m\u001b[0m\u001b[0;34m\u001b[0m\u001b[0m\n\u001b[0;32m-> 3160\u001b[0;31m       raise RuntimeError('You must compile your model before '\n\u001b[0m\u001b[1;32m   3161\u001b[0m                          \u001b[0;34m'training/testing. '\u001b[0m\u001b[0;34m\u001b[0m\u001b[0;34m\u001b[0m\u001b[0m\n\u001b[1;32m   3162\u001b[0m                          'Use `model.compile(optimizer, loss)`.')\n",
            "\u001b[0;31mRuntimeError\u001b[0m: You must compile your model before training/testing. Use `model.compile(optimizer, loss)`."
          ]
        }
      ]
    },
    {
      "cell_type": "code",
      "source": [
        "# Get the shape of the input data\n",
        "input_shape = X_train.shape\n",
        "\n",
        "# Check the number of features in the input data\n",
        "n_features = input_shape[1]\n",
        "\n",
        "# If the input data has too many features, remove the excess features\n",
        "if n_features > 13:\n",
        "  X_train = X_train[:, :13]\n",
        "\n",
        "# If the input data has too few features, add more features\n",
        "elif n_features < 13:\n",
        "  # Create a numpy array of zeros with the correct shape\n",
        "  additional_features = np.zeros((input_shape[0], 13 - n_features))\n",
        "  \n",
        "  # Concatenate the additional features with the input data\n",
        "  X_train = np.concatenate((X_train, additional_features), axis=1)\n",
        "\n",
        "# At this point, X_train should have the correct shape for the model\n"
      ],
      "metadata": {
        "colab": {
          "base_uri": "https://localhost:8080/",
          "height": 293
        },
        "id": "q2-pPGc8dIRG",
        "outputId": "33863c97-a950-48e0-f04b-0f9d15e64ee7"
      },
      "execution_count": 52,
      "outputs": [
        {
          "output_type": "error",
          "ename": "TypeError",
          "evalue": "ignored",
          "traceback": [
            "\u001b[0;31m---------------------------------------------------------------------------\u001b[0m",
            "\u001b[0;31mTypeError\u001b[0m                                 Traceback (most recent call last)",
            "\u001b[0;32m<ipython-input-52-2faa73ce3e1e>\u001b[0m in \u001b[0;36m<module>\u001b[0;34m\u001b[0m\n\u001b[1;32m      7\u001b[0m \u001b[0;31m# If the input data has too many features, remove the excess features\u001b[0m\u001b[0;34m\u001b[0m\u001b[0;34m\u001b[0m\u001b[0;34m\u001b[0m\u001b[0m\n\u001b[1;32m      8\u001b[0m \u001b[0;32mif\u001b[0m \u001b[0mn_features\u001b[0m \u001b[0;34m>\u001b[0m \u001b[0;36m13\u001b[0m\u001b[0;34m:\u001b[0m\u001b[0;34m\u001b[0m\u001b[0;34m\u001b[0m\u001b[0m\n\u001b[0;32m----> 9\u001b[0;31m   \u001b[0mX_train\u001b[0m \u001b[0;34m=\u001b[0m \u001b[0mX_train\u001b[0m\u001b[0;34m[\u001b[0m\u001b[0;34m:\u001b[0m\u001b[0;34m,\u001b[0m \u001b[0;34m:\u001b[0m\u001b[0;36m13\u001b[0m\u001b[0;34m]\u001b[0m\u001b[0;34m\u001b[0m\u001b[0;34m\u001b[0m\u001b[0m\n\u001b[0m\u001b[1;32m     10\u001b[0m \u001b[0;34m\u001b[0m\u001b[0m\n\u001b[1;32m     11\u001b[0m \u001b[0;31m# If the input data has too few features, add more features\u001b[0m\u001b[0;34m\u001b[0m\u001b[0;34m\u001b[0m\u001b[0;34m\u001b[0m\u001b[0m\n",
            "\u001b[0;32m/usr/local/lib/python3.8/dist-packages/pandas/core/frame.py\u001b[0m in \u001b[0;36m__getitem__\u001b[0;34m(self, key)\u001b[0m\n\u001b[1;32m   3456\u001b[0m             \u001b[0;32mif\u001b[0m \u001b[0mself\u001b[0m\u001b[0;34m.\u001b[0m\u001b[0mcolumns\u001b[0m\u001b[0;34m.\u001b[0m\u001b[0mnlevels\u001b[0m \u001b[0;34m>\u001b[0m \u001b[0;36m1\u001b[0m\u001b[0;34m:\u001b[0m\u001b[0;34m\u001b[0m\u001b[0;34m\u001b[0m\u001b[0m\n\u001b[1;32m   3457\u001b[0m                 \u001b[0;32mreturn\u001b[0m \u001b[0mself\u001b[0m\u001b[0;34m.\u001b[0m\u001b[0m_getitem_multilevel\u001b[0m\u001b[0;34m(\u001b[0m\u001b[0mkey\u001b[0m\u001b[0;34m)\u001b[0m\u001b[0;34m\u001b[0m\u001b[0;34m\u001b[0m\u001b[0m\n\u001b[0;32m-> 3458\u001b[0;31m             \u001b[0mindexer\u001b[0m \u001b[0;34m=\u001b[0m \u001b[0mself\u001b[0m\u001b[0;34m.\u001b[0m\u001b[0mcolumns\u001b[0m\u001b[0;34m.\u001b[0m\u001b[0mget_loc\u001b[0m\u001b[0;34m(\u001b[0m\u001b[0mkey\u001b[0m\u001b[0;34m)\u001b[0m\u001b[0;34m\u001b[0m\u001b[0;34m\u001b[0m\u001b[0m\n\u001b[0m\u001b[1;32m   3459\u001b[0m             \u001b[0;32mif\u001b[0m \u001b[0mis_integer\u001b[0m\u001b[0;34m(\u001b[0m\u001b[0mindexer\u001b[0m\u001b[0;34m)\u001b[0m\u001b[0;34m:\u001b[0m\u001b[0;34m\u001b[0m\u001b[0;34m\u001b[0m\u001b[0m\n\u001b[1;32m   3460\u001b[0m                 \u001b[0mindexer\u001b[0m \u001b[0;34m=\u001b[0m \u001b[0;34m[\u001b[0m\u001b[0mindexer\u001b[0m\u001b[0;34m]\u001b[0m\u001b[0;34m\u001b[0m\u001b[0;34m\u001b[0m\u001b[0m\n",
            "\u001b[0;32m/usr/local/lib/python3.8/dist-packages/pandas/core/indexes/base.py\u001b[0m in \u001b[0;36mget_loc\u001b[0;34m(self, key, method, tolerance)\u001b[0m\n\u001b[1;32m   3359\u001b[0m             \u001b[0mcasted_key\u001b[0m \u001b[0;34m=\u001b[0m \u001b[0mself\u001b[0m\u001b[0;34m.\u001b[0m\u001b[0m_maybe_cast_indexer\u001b[0m\u001b[0;34m(\u001b[0m\u001b[0mkey\u001b[0m\u001b[0;34m)\u001b[0m\u001b[0;34m\u001b[0m\u001b[0;34m\u001b[0m\u001b[0m\n\u001b[1;32m   3360\u001b[0m             \u001b[0;32mtry\u001b[0m\u001b[0;34m:\u001b[0m\u001b[0;34m\u001b[0m\u001b[0;34m\u001b[0m\u001b[0m\n\u001b[0;32m-> 3361\u001b[0;31m                 \u001b[0;32mreturn\u001b[0m \u001b[0mself\u001b[0m\u001b[0;34m.\u001b[0m\u001b[0m_engine\u001b[0m\u001b[0;34m.\u001b[0m\u001b[0mget_loc\u001b[0m\u001b[0;34m(\u001b[0m\u001b[0mcasted_key\u001b[0m\u001b[0;34m)\u001b[0m\u001b[0;34m\u001b[0m\u001b[0;34m\u001b[0m\u001b[0m\n\u001b[0m\u001b[1;32m   3362\u001b[0m             \u001b[0;32mexcept\u001b[0m \u001b[0mKeyError\u001b[0m \u001b[0;32mas\u001b[0m \u001b[0merr\u001b[0m\u001b[0;34m:\u001b[0m\u001b[0;34m\u001b[0m\u001b[0;34m\u001b[0m\u001b[0m\n\u001b[1;32m   3363\u001b[0m                 \u001b[0;32mraise\u001b[0m \u001b[0mKeyError\u001b[0m\u001b[0;34m(\u001b[0m\u001b[0mkey\u001b[0m\u001b[0;34m)\u001b[0m \u001b[0;32mfrom\u001b[0m \u001b[0merr\u001b[0m\u001b[0;34m\u001b[0m\u001b[0;34m\u001b[0m\u001b[0m\n",
            "\u001b[0;32m/usr/local/lib/python3.8/dist-packages/pandas/_libs/index.pyx\u001b[0m in \u001b[0;36mpandas._libs.index.IndexEngine.get_loc\u001b[0;34m()\u001b[0m\n",
            "\u001b[0;32m/usr/local/lib/python3.8/dist-packages/pandas/_libs/index.pyx\u001b[0m in \u001b[0;36mpandas._libs.index.IndexEngine.get_loc\u001b[0;34m()\u001b[0m\n",
            "\u001b[0;31mTypeError\u001b[0m: '(slice(None, None, None), slice(None, 13, None))' is an invalid key"
          ]
        }
      ]
    },
    {
      "cell_type": "code",
      "source": [],
      "metadata": {
        "id": "55QcXHfQdwxx"
      },
      "execution_count": null,
      "outputs": []
    }
  ]
}